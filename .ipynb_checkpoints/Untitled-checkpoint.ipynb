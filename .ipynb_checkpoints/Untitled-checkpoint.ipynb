{
 "cells": [
  {
   "cell_type": "code",
   "execution_count": 1,
   "id": "f0a054d6",
   "metadata": {
    "tags": []
   },
   "outputs": [],
   "source": [
    "import timeit\n",
    "import itertools\n",
    "k = 2"
   ]
  },
  {
   "cell_type": "code",
   "execution_count": 2,
   "id": "ac396f46-fa8d-4262-8bc9-82c2fdeed0f5",
   "metadata": {
    "tags": []
   },
   "outputs": [],
   "source": [
    "def sort_tuple(tup):\n",
    "    return (tup[0], tup[1]) if tup[0] < tup[1] else (tup[1],tup[0])"
   ]
  },
  {
   "cell_type": "code",
   "execution_count": 3,
   "id": "a3930661-81e3-400e-8f52-f7852936b79e",
   "metadata": {
    "tags": []
   },
   "outputs": [],
   "source": [
    "def nextflag(flag): # flag = [0,flag]\n",
    "    n = len(flag)\n",
    "    if flag[-1] == n-2:\n",
    "        return -1\n",
    "    j = 1\n",
    "    for i in range(n-1, 1, -1):\n",
    "        if flag[i-1] != flag[i] - 1:\n",
    "            j = i\n",
    "            break\n",
    "    flag[j] -= 1\n",
    "    for i in range(j+1, n):\n",
    "        flag[i] = k*i - 1\n",
    "    return flag\n",
    "\n",
    "def nextdfa(last, flag):\n",
    "    j = 0\n",
    "    l = 1\n",
    "    n = len(flag)\n",
    "    if last != -1:\n",
    "        i = n - 1\n",
    "        s = last\n",
    "        for j in range(k*n-1, -1, -1):\n",
    "            if i != 0 and flag[i] == j:\n",
    "                i -= 1\n",
    "            elif s[j] < i:\n",
    "                break\n",
    "        if j == 0 and (flag[1] == 1 or s[0] == 1):\n",
    "            return -1\n",
    "        else:\n",
    "            s[j] += 1\n",
    "            j += 1\n",
    "            l = i+1\n",
    "    else:\n",
    "        s = [0 for i in range(k*n)]\n",
    "        for i in range(len(flag)):\n",
    "            s[flag[i]] = i\n",
    "    for i in range(j,k*n):\n",
    "        if l < n and i == flag[l]:\n",
    "            l += 1\n",
    "        else:\n",
    "            s[i] = 0\n",
    "    return s\n",
    "\n",
    "def gen(n):\n",
    "    #rep = []\n",
    "    i = 0\n",
    "    flag = [0] + [i*k-1 for i in range(1,n)]\n",
    "    while flag != -1:\n",
    "        last = -1\n",
    "        last = nextdfa(last, flag)\n",
    "        while last != -1:\n",
    "            #rep += [last.copy()]\n",
    "            # if (i == 101):\n",
    "            #     print(flag)\n",
    "            #     print(last)\n",
    "            i += 1\n",
    "            last = nextdfa(last, flag)\n",
    "        flag = nextflag(flag)\n",
    "    return i"
   ]
  },
  {
   "cell_type": "code",
   "execution_count": 11,
   "id": "2bedf571",
   "metadata": {
    "tags": []
   },
   "outputs": [],
   "source": [
    "class dfa:\n",
    "    def __init__(self, flag, delta, n = 2, strings = [], f = [], not_f = []):\n",
    "        self.n = n\n",
    "        if flag == 0:\n",
    "            self.flag = [0] + [i*k-1 for i in range(1,self.n)]\n",
    "        else:\n",
    "            self.flag = flag.copy()\n",
    "        if delta == 0:\n",
    "            self.delta = nextdfa(-1, self.flag)\n",
    "        else:\n",
    "            self.delta = delta.copy()\n",
    "        self.strings = strings.copy()\n",
    "        self.f = f.copy()\n",
    "        self.not_f = not_f.copy()\n",
    "    \n",
    "    def show_dfa(self):\n",
    "        print()\n",
    "        print(\"showing dfa\")\n",
    "        print(\"flag: \", self.flag)\n",
    "        print(\"delta: \", self.delta)\n",
    "        print(\"f: \", self.f)\n",
    "        print(\"not_f: \", self.not_f, \"\\n\")\n",
    "    \n",
    "    def verify_last_string(self):\n",
    "        (target, string) = self.strings[-1]\n",
    "        current_state = 0\n",
    "        for i in range(len(string)):\n",
    "            current_state = self.delta[k*current_state + int(string[i])]\n",
    "            \n",
    "        return (current_state in self.f) == target\n",
    "    \n",
    "    def get_final_state_by_index(self, string_index):\n",
    "        string = self.strings[string_index][1]\n",
    "        current_state = 0\n",
    "        for i in range(len(string)):\n",
    "            \n",
    "            current_state = self.delta[k*current_state + int(string[i])]\n",
    "        \n",
    "        return current_state\n",
    "    \n",
    "    def get_final_state_by_string(self, string):\n",
    "        current_state = 0\n",
    "        for i in range(len(string)):\n",
    "            current_state = self.delta[k*current_state + int(string[i])]\n",
    "        return current_state\n",
    "        \n",
    "    def update_dfa(self):\n",
    "        print(\"updating dfa\")\n",
    "        while True and n < 5:\n",
    "            while self.flag != -1:\n",
    "                print(\"flag: \", self.flag)\n",
    "                self.delta = nextdfa(self.delta, self.flag)\n",
    "                while self.delta != -1:\n",
    "                    print(\"delta: \",self.delta)\n",
    "                    #print(self.delta)\n",
    "                    if self.update_final_states() and self.is_minimum():\n",
    "                        print(\"end of update\")\n",
    "                        self.show_dfa()\n",
    "                        return\n",
    "                    self.delta = nextdfa(self.delta, self.flag)\n",
    "\n",
    "                self.flag = nextflag(self.flag)\n",
    "            \n",
    "            self.n += 1\n",
    "            self.flag = [0] + [i*k-1 for i in range(1,self.n)]\n",
    "            self.delta = nextdfa(-1, self.flag)\n",
    "        \n",
    "        \n",
    "    def update_final_states(self):\n",
    "        self.f = []\n",
    "        for x in self.strings:\n",
    "            if x[0]:\n",
    "                self.add_final_state(self.get_final_state_by_string(x[1]))\n",
    "        self.f = list(set(tuple(self.f)))\n",
    "        for x in self.strings:\n",
    "            if x[0] == 0:\n",
    "                state = self.get_final_state_by_string(x[1])\n",
    "                self.add_not_final_state(state)\n",
    "                if state in self.f:\n",
    "                    return False\n",
    "        self.not_f = list(set(tuple(self.not_f)))\n",
    "        return True\n",
    "    \n",
    "    def is_minimum(self):\n",
    "        marked = {}\n",
    "        for x in itertools.combinations(range(self.n), 2):\n",
    "            marked[x] = [0]\n",
    "        \n",
    "        not_f = [x for x in range(self.n) if x not in self.f]\n",
    "        for x in itertools.product(self.f, not_f):\n",
    "            marked[sort_tuple(x)] = [1]\n",
    "        #print(\"initial marked: \", marked)\n",
    "        found = False\n",
    "        for x in list(itertools.combinations(self.f, 2)) + list(itertools.combinations(not_f, 2)):\n",
    "            #print(\"proc: \", x)\n",
    "            for i in range(k):\n",
    "                next_pair = [self.delta[k*x[0]+i], self.delta[k*x[1]+i]]\n",
    "                next_pair.sort()\n",
    "                next_pair = tuple(next_pair)\n",
    "                if next_pair not in marked or marked[next_pair][0] == 0:\n",
    "                    continue\n",
    "                    \n",
    "                found = True\n",
    "                to_mark = [x]\n",
    "                while len(to_mark) != 0:\n",
    "                    #print(to_mark)\n",
    "                    if to_mark[0] in marked:\n",
    "                        target = marked[to_mark[0]]\n",
    "                        target[0] = 1\n",
    "                        for x in target[1:]:\n",
    "                            if marked[x][0] == 0:\n",
    "                                to_mark += [x]\n",
    "                    to_mark = to_mark[1:]\n",
    "                #print(\"after marking: \", marked)\n",
    "            if not found:\n",
    "                for i in range(k):\n",
    "                    next_pair = [self.delta[k*x[0]+i], self.delta[k*x[1]+i]]\n",
    "                    next_pair.sort()\n",
    "                    next_pair = tuple(next_pair)\n",
    "                    if next_pair[0] != next_pair[1]:\n",
    "                        marked[next_pair] += [x]\n",
    "                #print(\"after adding: \", marked)\n",
    "            found = False\n",
    "        for x in marked.values():\n",
    "            if x[0] == 0:\n",
    "                return False\n",
    "        return True\n",
    "    \n",
    "    def add_final_state(self, state):\n",
    "        if state < self.n:\n",
    "            self.f += [state]\n",
    "            \n",
    "    def add_not_final_state(self, state):\n",
    "        if state < self.n:\n",
    "            self.not_f += [state]\n",
    "            \n",
    "    def add_accepted_string(self, state):\n",
    "        if state in self.f:\n",
    "            return\n",
    "        elif state not in self.not_f:\n",
    "            self.add_final_state(state)\n",
    "            if self.is_minimum():\n",
    "                return\n",
    "        self.update_dfa()\n",
    "        \n",
    "    def add_rejected_string(self, state):\n",
    "        if state in self.not_f:\n",
    "            return\n",
    "        elif state not in self.f:\n",
    "            self.add_not_final_state(state)\n",
    "            return\n",
    "        self.update_dfa()\n",
    "    \n",
    "    def add_string(self, is_in, string):\n",
    "        print(\"adding: \", is_in, string, \"\\n\")\n",
    "        self.strings += [(is_in, string)]\n",
    "        \n",
    "        string_final_state = self.get_final_state_by_index(-1)\n",
    "        \n",
    "        if is_in:\n",
    "            self.add_accepted_string(string_final_state)\n",
    "        else:\n",
    "            self.add_rejected_string(string_final_state)\n",
    "        "
   ]
  },
  {
   "cell_type": "code",
   "execution_count": 5,
   "id": "98b074d9-2bed-45b8-bcac-c3cf74d8c4a5",
   "metadata": {
    "tags": []
   },
   "outputs": [
    {
     "name": "stdout",
     "output_type": "stream",
     "text": [
      "\n",
      "showing dfa\n",
      "flag:  [0, 1, 3]\n",
      "delta:  [0, 1, 0, 2, 0, 0]\n",
      "f:  [0, 1, 2]\n",
      "not_f:  [] \n",
      "\n"
     ]
    },
    {
     "data": {
      "text/plain": [
       "False"
      ]
     },
     "execution_count": 5,
     "metadata": {},
     "output_type": "execute_result"
    }
   ],
   "source": [
    "test = dfa(0,0,3,[],[0,1,2])\n",
    "test.show_dfa()\n",
    "test.is_minimum()"
   ]
  },
  {
   "cell_type": "code",
   "execution_count": 6,
   "id": "d64a44c5-9841-4f7e-a332-f7683ff8d667",
   "metadata": {
    "tags": []
   },
   "outputs": [
    {
     "name": "stdout",
     "output_type": "stream",
     "text": [
      "adding:  1 100 \n",
      "\n",
      "adding:  0 101 \n",
      "\n",
      "updating dfa\n",
      "flag:  [0, 0]\n",
      "delta:  [1, 0, 0, 1]\n",
      "end of update\n",
      "\n",
      "showing dfa\n",
      "flag:  [0, 0]\n",
      "delta:  [1, 0, 0, 1]\n",
      "f:  [0]\n",
      "not_f:  [1] \n",
      "\n",
      "adding:  0 1001 \n",
      "\n",
      "updating dfa\n",
      "flag:  [0, 0]\n",
      "delta:  [1, 0, 1, 0]\n",
      "end of update\n",
      "\n",
      "showing dfa\n",
      "flag:  [0, 0]\n",
      "delta:  [1, 0, 1, 0]\n",
      "f:  [1]\n",
      "not_f:  [0, 1] \n",
      "\n",
      "adding:  0 10101 \n",
      "\n",
      "adding:  1 0110010 \n",
      "\n",
      "\n",
      "showing dfa\n",
      "flag:  [0, 0]\n",
      "delta:  [1, 0, 1, 0]\n",
      "f:  [1]\n",
      "not_f:  [0, 1] \n",
      "\n"
     ]
    },
    {
     "data": {
      "text/plain": [
       "True"
      ]
     },
     "execution_count": 6,
     "metadata": {},
     "output_type": "execute_result"
    }
   ],
   "source": [
    "d = dfa([0,0], 0)\n",
    "d.add_string(1, \"100\")\n",
    "d.add_string(0, \"101\")\n",
    "d.add_string(0, \"1001\")\n",
    "d.add_string(0, \"10101\")\n",
    "d.add_string(1, \"0110010\")\n",
    "d.show_dfa()\n",
    "d.verify_last_string()"
   ]
  },
  {
   "cell_type": "code",
   "execution_count": 8,
   "id": "eeaa9226-c466-4e73-9187-d2a842b54457",
   "metadata": {
    "tags": []
   },
   "outputs": [
    {
     "name": "stdout",
     "output_type": "stream",
     "text": [
      "\n",
      "showing dfa\n",
      "flag:  [0, 1]\n",
      "delta:  [0, 1, 0, 0]\n",
      "f:  []\n",
      "not_f:  [] \n",
      "\n",
      "adding:  1 0 \n",
      "\n",
      "adding:  1 00 \n",
      "\n",
      "adding:  1 111 \n",
      "\n",
      "updating dfa\n",
      "flag:  [0, 1]\n",
      "delta:  [0, 1, 0, 1]\n",
      "delta:  [0, 1, 1, 0]\n",
      "delta:  [0, 1, 1, 1]\n",
      "flag:  [0, 0]\n",
      "delta:  [1, 0, 0, 0]\n",
      "delta:  [1, 0, 0, 1]\n",
      "delta:  [1, 0, 1, 0]\n",
      "delta:  [1, 0, 1, 1]\n",
      "delta:  [1, 1, 0, 0]\n",
      "delta:  [1, 1, 0, 1]\n",
      "delta:  [1, 1, 1, 0]\n",
      "end of update\n",
      "\n",
      "showing dfa\n",
      "flag:  [0, 0]\n",
      "delta:  [1, 1, 1, 0]\n",
      "f:  [1]\n",
      "not_f:  [] \n",
      "\n",
      "adding:  1 111111 \n",
      "\n",
      "updating dfa\n",
      "flag:  [0, 0]\n",
      "delta:  [1, 1, 1, 1]\n",
      "end of update\n",
      "\n",
      "showing dfa\n",
      "flag:  [0, 0]\n",
      "delta:  [1, 1, 1, 1]\n",
      "f:  [1]\n",
      "not_f:  [] \n",
      "\n",
      "adding:  0 1 \n",
      "\n",
      "updating dfa\n",
      "flag:  [0, 0]\n",
      "flag:  [0, 1, 3]\n",
      "delta:  [0, 1, 0, 2, 0, 1]\n",
      "delta:  [0, 1, 0, 2, 0, 2]\n",
      "end of update\n",
      "\n",
      "showing dfa\n",
      "flag:  [0, 1, 3]\n",
      "delta:  [0, 1, 0, 2, 0, 2]\n",
      "f:  [0, 2]\n",
      "not_f:  [1] \n",
      "\n",
      "adding:  0 1111 \n",
      "\n",
      "updating dfa\n",
      "flag:  [0, 1, 3]\n",
      "delta:  [0, 1, 0, 2, 1, 0]\n",
      "end of update\n",
      "\n",
      "showing dfa\n",
      "flag:  [0, 1, 3]\n",
      "delta:  [0, 1, 0, 2, 1, 0]\n",
      "f:  [0]\n",
      "not_f:  [1] \n",
      "\n",
      "adding:  1 101010 \n",
      "\n",
      "adding:  1 010101 \n",
      "\n",
      "updating dfa\n",
      "flag:  [0, 1, 3]\n",
      "delta:  [0, 1, 0, 2, 1, 1]\n",
      "delta:  [0, 1, 0, 2, 1, 2]\n",
      "delta:  [0, 1, 0, 2, 2, 0]\n",
      "delta:  [0, 1, 0, 2, 2, 1]\n",
      "delta:  [0, 1, 0, 2, 2, 2]\n",
      "delta:  [0, 1, 1, 2, 0, 0]\n",
      "delta:  [0, 1, 1, 2, 0, 1]\n",
      "delta:  [0, 1, 1, 2, 0, 2]\n",
      "delta:  [0, 1, 1, 2, 1, 0]\n",
      "delta:  [0, 1, 1, 2, 1, 1]\n",
      "delta:  [0, 1, 1, 2, 1, 2]\n",
      "delta:  [0, 1, 1, 2, 2, 0]\n",
      "end of update\n",
      "\n",
      "showing dfa\n",
      "flag:  [0, 1, 3]\n",
      "delta:  [0, 1, 1, 2, 2, 0]\n",
      "f:  [0]\n",
      "not_f:  [1] \n",
      "\n",
      "\n",
      "showing dfa\n",
      "flag:  [0, 1, 3]\n",
      "delta:  [0, 1, 1, 2, 2, 0]\n",
      "f:  [0]\n",
      "not_f:  [1] \n",
      "\n"
     ]
    }
   ],
   "source": [
    "test = dfa(0,0,2)\n",
    "test.show_dfa()\n",
    "test.add_string(1, \"0\")\n",
    "test.add_string(1, \"00\")\n",
    "test.add_string(1, \"111\")\n",
    "test.add_string(1, \"111111\")\n",
    "test.add_string(0, \"1\")\n",
    "test.add_string(0, \"1111\")\n",
    "test.add_string(1, \"101010\")\n",
    "test.add_string(1, \"010101\")\n",
    "test.show_dfa()"
   ]
  },
  {
   "cell_type": "code",
   "execution_count": 12,
   "id": "529272fa-ad81-4998-b3b2-b0f5d0f8e549",
   "metadata": {
    "tags": []
   },
   "outputs": [
    {
     "ename": "AttributeError",
     "evalue": "'dfa' object has no attribute 'add_strin'",
     "output_type": "error",
     "traceback": [
      "\u001b[0;31m---------------------------------------------------------------------------\u001b[0m",
      "\u001b[0;31mAttributeError\u001b[0m                            Traceback (most recent call last)",
      "Cell \u001b[0;32mIn[12], line 2\u001b[0m\n\u001b[1;32m      1\u001b[0m test4 \u001b[38;5;241m=\u001b[39m dfa(\u001b[38;5;241m0\u001b[39m,\u001b[38;5;241m0\u001b[39m)\n\u001b[0;32m----> 2\u001b[0m \u001b[43mtest\u001b[49m\u001b[38;5;241;43m.\u001b[39;49m\u001b[43madd_strin\u001b[49m(\u001b[38;5;241m0\u001b[39m,\u001b[38;5;124m\"\u001b[39m\u001b[38;5;124m\"\u001b[39m)\n\u001b[1;32m      3\u001b[0m test\u001b[38;5;241m.\u001b[39madd_strin(\u001b[38;5;241m0\u001b[39m,\u001b[38;5;124m\"\u001b[39m\u001b[38;5;124m1\u001b[39m\u001b[38;5;124m\"\u001b[39m)\n\u001b[1;32m      4\u001b[0m test\u001b[38;5;241m.\u001b[39madd_strin(\u001b[38;5;241m0\u001b[39m,\u001b[38;5;124m\"\u001b[39m\u001b[38;5;124m00\u001b[39m\u001b[38;5;124m\"\u001b[39m)\n",
      "\u001b[0;31mAttributeError\u001b[0m: 'dfa' object has no attribute 'add_strin'"
     ]
    }
   ],
   "source": [
    "test4 = dfa(0,0)\n",
    "test.add_string(0,\"\")\n",
    "test.add_string(0,\"1\")\n",
    "test.add_string(0,\"00\")\n",
    "test.add_string(0,\"01\")\n",
    "test.add_string(0,\"10\")\n",
    "test.add_string(0,\"11\")\n",
    "test.add_string(0,\"000\")\n",
    "test.add_string(0,\"001\")\n",
    "test.add_string(0,\"010\")\n",
    "test.add_string(0,\"011\")\n",
    "test.add_string(0,\"100\")\n",
    "test.add_string(1,\"101\")\n",
    "test.add_string(0,\"110\")\n",
    "test.add_string(0,\"111\")\n",
    "test.add_string(0,\"0000\")\n",
    "test.add_string(0,\"0001\")\n",
    "test.add_string(0,\"0010\")\n",
    "test.add_string(0,\"0100\")\n",
    "test.add_string(1,\"0101\")\n",
    "test.add_string(0,\"0110\")\n",
    "test.add_string(0,\"0111\")\n",
    "test.add_string(0,\"1000\")\n",
    "test.add_string(0,\"1001\")\n",
    "test.add_string(1,\"1010\")\n",
    "test.add_string(1,\"1011\")\n",
    "test.add_string(0,\"1100\")\n",
    "test.add_string(0,\"1101\")\n",
    "test.add_string(0,\"1110\")\n",
    "test.add_string(0,\"1111\")"
   ]
  },
  {
   "cell_type": "code",
   "execution_count": 19,
   "id": "b62794c1-0830-4214-9596-6e12a0f8a182",
   "metadata": {
    "tags": []
   },
   "outputs": [
    {
     "name": "stdout",
     "output_type": "stream",
     "text": [
      "[0, 1, 3, 5, 7, 9]\n",
      "[0, 1, 0, 2, 0, 3, 0, 4, 2, 5, 4, 5]\n",
      "[0, 1, 3, 5, 7, 9]\n",
      "[0, 1, 0, 2, 0, 3, 0, 4, 2, 5, 4, 5]\n",
      "[0, 1, 3, 5, 7, 9]\n",
      "[0, 1, 0, 2, 0, 3, 0, 4, 2, 5, 4, 5]\n",
      "[0, 1, 3, 5, 7, 9]\n",
      "[0, 1, 0, 2, 0, 3, 0, 4, 2, 5, 4, 5]\n",
      "[0, 1, 3, 5, 7, 9]\n",
      "[0, 1, 0, 2, 0, 3, 0, 4, 2, 5, 4, 5]\n",
      "[0, 1, 3, 5, 7, 9]\n",
      "[0, 1, 0, 2, 0, 3, 0, 4, 2, 5, 4, 5]\n",
      "[0, 1, 3, 5, 7, 9]\n",
      "[0, 1, 0, 2, 0, 3, 0, 4, 2, 5, 4, 5]\n",
      "[0, 1, 3, 5, 7, 9]\n",
      "[0, 1, 0, 2, 0, 3, 0, 4, 2, 5, 4, 5]\n",
      "1.76 s ± 39.4 ms per loop (mean ± std. dev. of 7 runs, 1 loop each)\n"
     ]
    }
   ],
   "source": [
    "%%timeit\n",
    "gen(6)"
   ]
  },
  {
   "cell_type": "code",
   "execution_count": 21,
   "id": "e2d3bf34-8194-4612-91e5-ed68eede32df",
   "metadata": {
    "tags": []
   },
   "outputs": [
    {
     "data": {
      "text/plain": [
       "256182290"
      ]
     },
     "execution_count": 21,
     "metadata": {},
     "output_type": "execute_result"
    }
   ],
   "source": [
    "gen(7)"
   ]
  },
  {
   "cell_type": "code",
   "execution_count": 120,
   "id": "e273a0a5-d739-4aa4-b149-037d53cd0fc6",
   "metadata": {},
   "outputs": [
    {
     "name": "stdout",
     "output_type": "stream",
     "text": [
      "6.4 ms ± 76.5 µs per loop (mean ± std. dev. of 7 runs, 100 loops each)\n"
     ]
    }
   ],
   "source": [
    "%%timeit\n",
    "gen(4)"
   ]
  },
  {
   "cell_type": "code",
   "execution_count": 130,
   "id": "854eafa5",
   "metadata": {},
   "outputs": [
    {
     "name": "stdout",
     "output_type": "stream",
     "text": [
      "[0, 1, 0, 0]\n",
      "[0, 1, 0, 1]\n",
      "[0, 1, 1, 0]\n",
      "[0, 1, 1, 1]\n",
      "[1, 0, 0, 0]\n",
      "[1, 0, 0, 1]\n",
      "[1, 0, 1, 0]\n",
      "[1, 0, 1, 1]\n",
      "[1, 1, 0, 0]\n",
      "[1, 1, 0, 1]\n",
      "[1, 1, 1, 0]\n",
      "[1, 1, 1, 1]\n"
     ]
    },
    {
     "data": {
      "text/plain": [
       "12"
      ]
     },
     "execution_count": 130,
     "metadata": {},
     "output_type": "execute_result"
    }
   ],
   "source": [
    "gen(2)"
   ]
  },
  {
   "cell_type": "code",
   "execution_count": 34,
   "id": "736ead4f",
   "metadata": {},
   "outputs": [
    {
     "name": "stdout",
     "output_type": "stream",
     "text": [
      "[0, 0, 2]\n",
      "[1, 0, 2, 2, 0, 2]\n"
     ]
    },
    {
     "data": {
      "text/plain": [
       "216"
      ]
     },
     "execution_count": 34,
     "metadata": {},
     "output_type": "execute_result"
    }
   ],
   "source": [
    "gen(3)"
   ]
  },
  {
   "cell_type": "code",
   "execution_count": 67,
   "id": "13d8ba0f",
   "metadata": {},
   "outputs": [
    {
     "name": "stdout",
     "output_type": "stream",
     "text": [
      "[1, 1, 0, 2, 0, 3, 0, 0]\n"
     ]
    },
    {
     "data": {
      "text/plain": [
       "[1, 1, 0, 2, 0, 3, 0, 0]"
      ]
     },
     "execution_count": 67,
     "metadata": {},
     "output_type": "execute_result"
    }
   ],
   "source": [
    "NextIcdfa0([0, 1, 0, 2, 0, 3, 0, 0], f)"
   ]
  },
  {
   "cell_type": "code",
   "execution_count": 74,
   "id": "f53c5fc7",
   "metadata": {},
   "outputs": [
    {
     "data": {
      "text/plain": [
       "[0, 1]"
      ]
     },
     "execution_count": 74,
     "metadata": {},
     "output_type": "execute_result"
    }
   ],
   "source": [
    "f = [0] + [i*2-1 for i in range(1,2)]\n",
    "f"
   ]
  },
  {
   "cell_type": "code",
   "execution_count": 72,
   "id": "5c0d3c91",
   "metadata": {},
   "outputs": [
    {
     "name": "stdout",
     "output_type": "stream",
     "text": [
      "[0, 0]\n",
      "-1\n"
     ]
    }
   ],
   "source": [
    "while f != -1:\n",
    "    f = nextFlags(f)\n",
    "    print(f)"
   ]
  },
  {
   "cell_type": "code",
   "execution_count": 88,
   "id": "48cf2bfd",
   "metadata": {},
   "outputs": [
    {
     "data": {
      "text/plain": [
       "[0, 1, 0, 0]"
      ]
     },
     "execution_count": 88,
     "metadata": {},
     "output_type": "execute_result"
    }
   ],
   "source": [
    "NextIcdfa0(-1, f)"
   ]
  },
  {
   "cell_type": "code",
   "execution_count": 89,
   "id": "00e28fde",
   "metadata": {},
   "outputs": [
    {
     "data": {
      "text/plain": [
       "[1, 1, 0, 0]"
      ]
     },
     "execution_count": 89,
     "metadata": {},
     "output_type": "execute_result"
    }
   ],
   "source": [
    "NextIcdfa0([0, 1, 0, 0], f)"
   ]
  },
  {
   "cell_type": "code",
   "execution_count": 90,
   "id": "fc1ad9a3",
   "metadata": {},
   "outputs": [
    {
     "data": {
      "text/plain": [
       "-1"
      ]
     },
     "execution_count": 90,
     "metadata": {},
     "output_type": "execute_result"
    }
   ],
   "source": [
    "NextIcdfa0([1, 1, 0, 0], f)"
   ]
  },
  {
   "cell_type": "code",
   "execution_count": 94,
   "id": "c3fa5b3c",
   "metadata": {},
   "outputs": [
    {
     "data": {
      "text/plain": [
       "[1, 0, 0, 0]"
      ]
     },
     "execution_count": 94,
     "metadata": {},
     "output_type": "execute_result"
    }
   ],
   "source": [
    "NextIcdfa0(-1, [0, 0])"
   ]
  },
  {
   "cell_type": "code",
   "execution_count": 95,
   "id": "05ffcd7c",
   "metadata": {},
   "outputs": [
    {
     "data": {
      "text/plain": [
       "-1"
      ]
     },
     "execution_count": 95,
     "metadata": {},
     "output_type": "execute_result"
    }
   ],
   "source": [
    "NextIcdfa0([1, 0, 0, 0], [0, 0])"
   ]
  },
  {
   "cell_type": "code",
   "execution_count": 96,
   "id": "b964725f",
   "metadata": {},
   "outputs": [
    {
     "data": {
      "text/plain": [
       "-1"
      ]
     },
     "execution_count": 96,
     "metadata": {},
     "output_type": "execute_result"
    }
   ],
   "source": [
    "NextIcdfa0([1, 1, 0, 0], [0, 0])"
   ]
  },
  {
   "cell_type": "code",
   "execution_count": 99,
   "id": "c7eac604",
   "metadata": {},
   "outputs": [],
   "source": [
    "!jt -t monokai"
   ]
  },
  {
   "cell_type": "code",
   "execution_count": 76,
   "id": "2f06f4b9",
   "metadata": {},
   "outputs": [
    {
     "data": {
      "text/plain": [
       "False"
      ]
     },
     "execution_count": 76,
     "metadata": {},
     "output_type": "execute_result"
    }
   ],
   "source": [
    "asd = [[1,1]]\n",
    "[1,0] in asd"
   ]
  },
  {
   "cell_type": "code",
   "execution_count": 244,
   "id": "51a522f1-1639-47dd-9ca0-4d748b66a50d",
   "metadata": {},
   "outputs": [
    {
     "ename": "TypeError",
     "evalue": "unsupported operand type(s) for -: 'list' and 'list'",
     "output_type": "error",
     "traceback": [
      "\u001b[0;31m---------------------------------------------------------------------------\u001b[0m",
      "\u001b[0;31mTypeError\u001b[0m                                 Traceback (most recent call last)",
      "Cell \u001b[0;32mIn[244], line 3\u001b[0m\n\u001b[1;32m      1\u001b[0m a \u001b[38;5;241m=\u001b[39m [\u001b[38;5;241m1\u001b[39m,\u001b[38;5;241m2\u001b[39m,\u001b[38;5;241m3\u001b[39m,\u001b[38;5;241m4\u001b[39m]\n\u001b[1;32m      2\u001b[0m b \u001b[38;5;241m=\u001b[39m [\u001b[38;5;241m2\u001b[39m,\u001b[38;5;241m3\u001b[39m]\n\u001b[0;32m----> 3\u001b[0m \u001b[43ma\u001b[49m\u001b[38;5;241;43m-\u001b[39;49m\u001b[43mb\u001b[49m\n",
      "\u001b[0;31mTypeError\u001b[0m: unsupported operand type(s) for -: 'list' and 'list'"
     ]
    }
   ],
   "source": [
    "a = [1,2,3,4]\n",
    "b = [2,3]\n",
    "a-b"
   ]
  },
  {
   "cell_type": "code",
   "execution_count": 4,
   "id": "73de0615-f4e0-44cd-bc14-0916c7bf70fa",
   "metadata": {},
   "outputs": [],
   "source": [
    "a = [0,[1,1]]"
   ]
  },
  {
   "cell_type": "code",
   "execution_count": 248,
   "id": "3aaa53f4-09ab-4d73-8e33-5cbb2495a9bd",
   "metadata": {},
   "outputs": [
    {
     "data": {
      "text/plain": [
       "[1, 2, 3]"
      ]
     },
     "execution_count": 248,
     "metadata": {},
     "output_type": "execute_result"
    }
   ],
   "source": [
    "a = [2,1,3]\n",
    "a.sort()\n",
    "a"
   ]
  },
  {
   "cell_type": "code",
   "execution_count": 17,
   "id": "bb29ea3b-fb64-4c1f-a667-dc0646e77605",
   "metadata": {},
   "outputs": [
    {
     "data": {
      "text/plain": [
       "3"
      ]
     },
     "execution_count": 17,
     "metadata": {},
     "output_type": "execute_result"
    }
   ],
   "source": [
    "a = \"010101\"\n",
    "b = 0\n",
    "for i in range(len(a)):\n",
    "    b += int(a[i])\n",
    "    \n",
    "b"
   ]
  },
  {
   "cell_type": "code",
   "execution_count": 251,
   "id": "348ae795-bbf5-4d6c-8697-52e74c2f5a18",
   "metadata": {},
   "outputs": [
    {
     "name": "stdout",
     "output_type": "stream",
     "text": [
      "(1, 2)\n",
      "(1, 3)\n",
      "(2, 3)\n",
      "(4, 5)\n",
      "(4, 6)\n",
      "(5, 6)\n"
     ]
    }
   ],
   "source": [
    "a = [1,2,3]\n",
    "b = [4,5,6]\n",
    "for x in list(itertools.combinations(a, 2)) + list(itertools.combinations(b, 2)):\n",
    "    print(x)"
   ]
  },
  {
   "cell_type": "code",
   "execution_count": 272,
   "id": "16963228-7fae-428a-a0c7-ebe01ce1be6b",
   "metadata": {},
   "outputs": [
    {
     "data": {
      "text/plain": [
       "True"
      ]
     },
     "execution_count": 272,
     "metadata": {},
     "output_type": "execute_result"
    }
   ],
   "source": [
    "a = {1,2}\n",
    "\n",
    "b = {2,1}\n",
    "a == b"
   ]
  },
  {
   "cell_type": "code",
   "execution_count": 274,
   "id": "fba880e8-6d5b-4653-819d-fde75a2056e0",
   "metadata": {},
   "outputs": [
    {
     "data": {
      "text/plain": [
       "{1, 2, 3}"
      ]
     },
     "execution_count": 274,
     "metadata": {},
     "output_type": "execute_result"
    }
   ],
   "source": [
    "a.add(3)\n",
    "a"
   ]
  },
  {
   "cell_type": "code",
   "execution_count": 313,
   "id": "dc2aef44-7bde-46e3-abab-f49733f4f518",
   "metadata": {},
   "outputs": [
    {
     "data": {
      "text/plain": [
       "'hi'"
      ]
     },
     "execution_count": 313,
     "metadata": {},
     "output_type": "execute_result"
    }
   ],
   "source": [
    "dicti = {}\n",
    "dicti[(1,2)] = \"hi\"\n",
    "dicti[(1,2)]"
   ]
  },
  {
   "cell_type": "code",
   "execution_count": 278,
   "id": "be683636-face-4256-9df5-3f69da2b8c62",
   "metadata": {},
   "outputs": [
    {
     "name": "stdout",
     "output_type": "stream",
     "text": [
      "[0, 1, 2, 3, 4]\n",
      "[[0, 1], [0, 2], [0, 3], [0, 4], [1, 2], [1, 3], [1, 4], [2, 3], [2, 4], [3, 4]]\n"
     ]
    }
   ],
   "source": [
    "a = [0,1,2,3,4]\n",
    "b = []\n",
    "for i in range(len(a)):\n",
    "    for j in range(i+1, len(a)):\n",
    "        b += [[i,j]]\n",
    "        \n",
    "print(a)\n",
    "print(b)"
   ]
  },
  {
   "cell_type": "code",
   "execution_count": 308,
   "id": "1bffaa44-5150-4329-8b32-959a4b94af94",
   "metadata": {},
   "outputs": [
    {
     "name": "stdout",
     "output_type": "stream",
     "text": [
      "[0, 1]\n"
     ]
    }
   ],
   "source": [
    "a = [0,1]\n",
    "a.sort()\n",
    "print(a)"
   ]
  },
  {
   "cell_type": "code",
   "execution_count": null,
   "id": "875e6978-7d16-4552-98d6-47fd7ce0e787",
   "metadata": {},
   "outputs": [],
   "source": []
  }
 ],
 "metadata": {
  "kernelspec": {
   "display_name": "Python 3 (ipykernel)",
   "language": "python",
   "name": "python3"
  },
  "language_info": {
   "codemirror_mode": {
    "name": "ipython",
    "version": 3
   },
   "file_extension": ".py",
   "mimetype": "text/x-python",
   "name": "python",
   "nbconvert_exporter": "python",
   "pygments_lexer": "ipython3",
   "version": "3.10.11"
  }
 },
 "nbformat": 4,
 "nbformat_minor": 5
}
