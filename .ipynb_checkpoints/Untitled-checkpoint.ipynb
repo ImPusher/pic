{
 "cells": [
  {
   "cell_type": "code",
   "execution_count": 36,
   "id": "f0a054d6",
   "metadata": {
    "tags": []
   },
   "outputs": [],
   "source": [
    "import timeit\n",
    "import itertools\n",
    "import pydot\n",
    "from IPython.display import Image, display\n",
    "k = 2\n",
    "to_print = False"
   ]
  },
  {
   "cell_type": "code",
   "execution_count": 37,
   "id": "ac396f46-fa8d-4262-8bc9-82c2fdeed0f5",
   "metadata": {
    "tags": []
   },
   "outputs": [],
   "source": [
    "def sort_tuple(tup):\n",
    "    return (tup[0], tup[1]) if tup[0] < tup[1] else (tup[1],tup[0])"
   ]
  },
  {
   "cell_type": "code",
   "execution_count": 38,
   "id": "a3930661-81e3-400e-8f52-f7852936b79e",
   "metadata": {
    "tags": []
   },
   "outputs": [],
   "source": [
    "def nextflag(flag): # flag = [0,flag]\n",
    "    n = len(flag)\n",
    "    if flag[-1] == n-2:\n",
    "        return -1\n",
    "    j = 1\n",
    "    for i in range(n-1, 1, -1):\n",
    "        if flag[i-1] != flag[i] - 1:\n",
    "            j = i\n",
    "            break\n",
    "    flag[j] -= 1\n",
    "    for i in range(j+1, n):\n",
    "        flag[i] = k*i - 1\n",
    "    return flag\n",
    "\n",
    "def nextdfa(last, flag):\n",
    "    j = 0\n",
    "    l = 1\n",
    "    n = len(flag)\n",
    "    if last != -1:\n",
    "        i = n - 1\n",
    "        s = last\n",
    "        for j in range(k*n-1, -1, -1):\n",
    "            if i != 0 and flag[i] == j:\n",
    "                i -= 1\n",
    "            elif s[j] < i:\n",
    "                break\n",
    "        if j == 0 and (flag[1] == 1 or s[0] == 1):\n",
    "            return -1\n",
    "        else:\n",
    "            s[j] += 1\n",
    "            j += 1\n",
    "            l = i+1\n",
    "    else:\n",
    "        s = [0 for i in range(k*n)]\n",
    "        for i in range(len(flag)):\n",
    "            s[flag[i]] = i\n",
    "    for i in range(j,k*n):\n",
    "        if l < n and i == flag[l]:\n",
    "            l += 1\n",
    "        else:\n",
    "            s[i] = 0\n",
    "    return s\n",
    "\n",
    "def gen(n):\n",
    "    #rep = []\n",
    "    i = 0\n",
    "    flag = [0] + [i*k-1 for i in range(1,n)]\n",
    "    while flag != -1:\n",
    "        last = -1\n",
    "        last = nextdfa(last, flag)\n",
    "        while last != -1:\n",
    "            #rep += [last.copy()]\n",
    "            # if (i == 101):\n",
    "            #     print(flag)\n",
    "            #     print(last)\n",
    "            i += 1\n",
    "            last = nextdfa(last, flag)\n",
    "        flag = nextflag(flag)\n",
    "    return i"
   ]
  },
  {
   "cell_type": "code",
   "execution_count": 106,
   "id": "2bedf571",
   "metadata": {
    "tags": []
   },
   "outputs": [],
   "source": [
    "class dfa:\n",
    "    def __init__(self, flag, delta, n = 2, strings = [], f = [], not_f = []):\n",
    "        self.n = n\n",
    "        if flag == 0:\n",
    "            self.flag = [0] + [i*k-1 for i in range(1,self.n)]\n",
    "        else:\n",
    "            self.flag = flag.copy()\n",
    "        if delta == 0:\n",
    "            self.delta = nextdfa(-1, self.flag)\n",
    "        else:\n",
    "            self.delta = delta.copy()\n",
    "        self.strings = strings.copy()\n",
    "        self.f = f.copy()\n",
    "        self.not_f = not_f.copy()\n",
    "    def draw_dfa(self):\n",
    "        graph = pydot.Dot(\"dfa\", graph_type=\"graph\", bgcolor=\"white\")\n",
    "        graph.add_node(pydot.Node(\" \", shape=\"none\", height=.0, width=.0))\n",
    "        for i in range(self.n):\n",
    "            if i in self.f:\n",
    "                graph.add_node(pydot.Node(str(i), shape=\"doublecircle\"))\n",
    "            else:\n",
    "                graph.add_node(pydot.Node(str(i), shape=\"circle\"))\n",
    "        graph.add_edge(pydot.Edge(\" \", \"0\", label=\"\", dir=\"both\", arrowtail=\"dot\"))\n",
    "        for i in range(len(self.delta)):\n",
    "            graph.add_edge(pydot.Edge(str(int(i/2)), str(self.delta[i]), label=str(i%2), dir=\"forward\"))\n",
    "        graph.write_png(\"out.png\")\n",
    "        display(Image(filename='out.png'))\n",
    "        \n",
    "    def show_dfa(self):\n",
    "        print()\n",
    "        print(\"showing dfa\")\n",
    "        print(\"flag: \", self.flag)\n",
    "        print(\"delta: \", self.delta)\n",
    "        print(\"f: \", self.f)\n",
    "        print(\"not_f: \", self.not_f, \"\\n\")\n",
    "    \n",
    "    def verify_last_string(self):\n",
    "        (target, string) = self.strings[-1]\n",
    "        current_state = 0\n",
    "        for i in range(len(string)):\n",
    "            current_state = self.delta[k*current_state + int(string[i])]\n",
    "            \n",
    "        return (current_state in self.f) == target\n",
    "    \n",
    "    def get_final_state_by_index(self, string_index):\n",
    "        string = self.strings[string_index][1]\n",
    "        current_state = 0\n",
    "        for i in range(len(string)):\n",
    "            \n",
    "            current_state = self.delta[k*current_state + int(string[i])]\n",
    "        \n",
    "        return current_state\n",
    "    \n",
    "    def get_final_state_by_string(self, string):\n",
    "        current_state = 0\n",
    "        for i in range(len(string)):\n",
    "            current_state = self.delta[k*current_state + int(string[i])]\n",
    "        return current_state\n",
    "        \n",
    "    def update_dfa(self):\n",
    "        if to_print:\n",
    "            print(\"updating dfa\")\n",
    "        while True:\n",
    "            while self.flag != -1:\n",
    "                if to_print:\n",
    "                    print(\"flag: \", self.flag)\n",
    "                self.delta = nextdfa(self.delta, self.flag)\n",
    "                while self.delta != -1:\n",
    "                    if to_print:\n",
    "                        print(\"delta: \",self.delta)\n",
    "                    #print(self.delta)\n",
    "                    if self.update_final_states() and self.is_minimum():\n",
    "                        if to_print:\n",
    "                            print(\"end of update\")\n",
    "                            self.show_dfa()\n",
    "                        return\n",
    "                    self.delta = nextdfa(self.delta, self.flag)\n",
    "\n",
    "                self.flag = nextflag(self.flag)\n",
    "            \n",
    "            self.n += 1\n",
    "            self.flag = [0] + [i*k-1 for i in range(1,self.n)]\n",
    "            self.delta = nextdfa(-1, self.flag)\n",
    "        \n",
    "        \n",
    "    def update_final_states(self):\n",
    "        self.f = []\n",
    "        self.not_f = []\n",
    "        for x in self.strings:\n",
    "            if x[0]:\n",
    "                self.add_final_state(self.get_final_state_by_string(x[1]))\n",
    "        self.f = list(set(tuple(self.f)))\n",
    "        \n",
    "        for x in self.strings:\n",
    "            if x[0] == 0:\n",
    "                state = self.get_final_state_by_string(x[1])\n",
    "                if state in self.f:\n",
    "                    return False\n",
    "                self.add_not_final_state(state)\n",
    "                \n",
    "        self.not_f = list(set(tuple(self.not_f)))\n",
    "        return True\n",
    "    \n",
    "    def is_minimum(self):\n",
    "        marked = {}\n",
    "        for x in itertools.combinations(range(self.n), 2):\n",
    "            marked[x] = [0]\n",
    "        \n",
    "        not_f = [x for x in range(self.n) if x not in self.f]\n",
    "        for x in itertools.product(self.f, not_f):\n",
    "            marked[sort_tuple(x)] = [1]\n",
    "        #print(\"initial marked: \", marked)\n",
    "        found = False\n",
    "        for x in list(itertools.combinations(self.f, 2)) + list(itertools.combinations(not_f, 2)):\n",
    "            #print(\"proc: \", x)\n",
    "            for i in range(k):\n",
    "                next_pair = [self.delta[k*x[0]+i], self.delta[k*x[1]+i]]\n",
    "                next_pair.sort()\n",
    "                next_pair = tuple(next_pair)\n",
    "                if next_pair not in marked or marked[next_pair][0] == 0:\n",
    "                    continue\n",
    "                    \n",
    "                found = True\n",
    "                to_mark = [x]\n",
    "                while len(to_mark) != 0:\n",
    "                    #print(to_mark)\n",
    "                    if to_mark[0] in marked:\n",
    "                        target = marked[to_mark[0]]\n",
    "                        target[0] = 1\n",
    "                        for x in target[1:]:\n",
    "                            if marked[x][0] == 0:\n",
    "                                to_mark += [x]\n",
    "                    to_mark = to_mark[1:]\n",
    "                #print(\"after marking: \", marked)\n",
    "            if not found:\n",
    "                for i in range(k):\n",
    "                    next_pair = [self.delta[k*x[0]+i], self.delta[k*x[1]+i]]\n",
    "                    next_pair.sort()\n",
    "                    next_pair = tuple(next_pair)\n",
    "                    if next_pair[0] != next_pair[1]:\n",
    "                        marked[next_pair] += [x]\n",
    "                #print(\"after adding: \", marked)\n",
    "            found = False\n",
    "        for x in marked.values():\n",
    "            if x[0] == 0:\n",
    "                return False\n",
    "        return True\n",
    "    \n",
    "    def add_final_state(self, state):\n",
    "        if state < self.n:\n",
    "            self.f += [state]\n",
    "            \n",
    "    def add_not_final_state(self, state):\n",
    "        if state < self.n:\n",
    "            self.not_f += [state]\n",
    "            \n",
    "    def add_accepted_string(self, state):\n",
    "        if state in self.f:\n",
    "            return\n",
    "        elif state not in self.not_f:\n",
    "            self.add_final_state(state)\n",
    "            if self.is_minimum():\n",
    "                return\n",
    "        self.update_dfa()\n",
    "        \n",
    "    def add_rejected_string(self, state):\n",
    "        if state in self.not_f:\n",
    "            return\n",
    "        elif state not in self.f:\n",
    "            self.add_not_final_state(state)\n",
    "            return\n",
    "        self.update_dfa()\n",
    "    \n",
    "    def add_string(self, is_in, string):\n",
    "        if to_print:\n",
    "            print(\"adding: \", is_in, string, \"\\n\")\n",
    "        self.strings += [(is_in, string)]\n",
    "        \n",
    "        string_final_state = self.get_final_state_by_index(-1)\n",
    "        \n",
    "        if is_in:\n",
    "            self.add_accepted_string(string_final_state)\n",
    "        else:\n",
    "            self.add_rejected_string(string_final_state)"
   ]
  },
  {
   "cell_type": "code",
   "execution_count": 115,
   "id": "a30bb10f-666b-49b4-95bf-ead190688936",
   "metadata": {
    "tags": []
   },
   "outputs": [
    {
     "data": {
      "image/png": "[encoded data removed]",
      "text/plain": [
       "<IPython.core.display.Image object>"
      ]
     },
     "metadata": {},
     "output_type": "display_data"
    },
    {
     "data": {
      "image/png": "[encoded data removed]",
      "text/plain": [
       "<IPython.core.display.Image object>"
      ]
     },
     "metadata": {},
     "output_type": "display_data"
    }
   ],
   "source": [
    "testeven = dfa(0,0)\n",
    "testeven.add_string(1, \"\")\n",
    "testeven.add_string(1, \"11\")\n",
    "testeven.add_string(1, \"00\")\n",
    "testeven.add_string(1, \"1100\")\n",
    "testeven.add_string(1, \"1010\")\n",
    "testeven.add_string(1, \"0101\")\n",
    "testeven.add_string(1, \"1001\")\n",
    "testeven.add_string(1, \"11100010\")\n",
    "testeven.add_string(0, \"01\")\n",
    "testeven.add_string(0, \"1\")\n",
    "testeven.add_string(0, \"0\")\n",
    "testeven.add_string(0, \"111\")\n",
    "testeven.add_string(0, \"11100\")\n",
    "testeven.add_string(0, \"11000\")\n",
    "testeven.draw_dfa()\n",
    "testeven.add_string(0, \"011\")\n",
    "testeven.add_string(0, \"110\")\n",
    "testeven.draw_dfa()"
   ]
  },
  {
   "cell_type": "code",
   "execution_count": 73,
   "id": "98b074d9-2bed-45b8-bcac-c3cf74d8c4a5",
   "metadata": {
    "tags": []
   },
   "outputs": [
    {
     "name": "stdout",
     "output_type": "stream",
     "text": [
      "\n",
      "showing dfa\n",
      "flag:  [0, 1, 3]\n",
      "delta:  [0, 1, 0, 2, 0, 0]\n",
      "f:  [0, 1, 2]\n",
      "not_f:  [] \n",
      "\n"
     ]
    },
    {
     "data": {
      "image/png": "[encoded data removed]",
      "text/plain": [
       "<IPython.core.display.Image object>"
      ]
     },
     "metadata": {},
     "output_type": "display_data"
    }
   ],
   "source": [
    "test = dfa(0,0,3,[],[0,1,2])\n",
    "test.show_dfa()\n",
    "test.is_minimum()\n",
    "test.draw_dfa()"
   ]
  },
  {
   "cell_type": "code",
   "execution_count": 74,
   "id": "d64a44c5-9841-4f7e-a332-f7683ff8d667",
   "metadata": {
    "tags": []
   },
   "outputs": [
    {
     "name": "stdout",
     "output_type": "stream",
     "text": [
      "\n",
      "showing dfa\n",
      "flag:  [0, 0]\n",
      "delta:  [1, 0, 1, 0]\n",
      "f:  [1]\n",
      "not_f:  [0, 1] \n",
      "\n"
     ]
    },
    {
     "data": {
      "image/png": "[encoded data removed]",
      "text/plain": [
       "<IPython.core.display.Image object>"
      ]
     },
     "metadata": {},
     "output_type": "display_data"
    }
   ],
   "source": [
    "d = dfa([0,0], 0)\n",
    "d.add_string(1, \"100\")\n",
    "d.add_string(0, \"101\")\n",
    "d.add_string(0, \"1001\")\n",
    "d.add_string(0, \"10101\")\n",
    "d.add_string(1, \"0110010\")\n",
    "d.show_dfa()\n",
    "d.verify_last_string()\n",
    "d.draw_dfa()"
   ]
  },
  {
   "cell_type": "code",
   "execution_count": 75,
   "id": "eeaa9226-c466-4e73-9187-d2a842b54457",
   "metadata": {
    "tags": []
   },
   "outputs": [
    {
     "name": "stdout",
     "output_type": "stream",
     "text": [
      "\n",
      "showing dfa\n",
      "flag:  [0, 1, 3]\n",
      "delta:  [0, 1, 1, 2, 2, 0]\n",
      "f:  [0]\n",
      "not_f:  [1] \n",
      "\n"
     ]
    }
   ],
   "source": [
    "test = dfa(0,0,2)\n",
    "test.add_string(1, \"0\")\n",
    "test.add_string(1, \"00\")\n",
    "test.add_string(1, \"111\")\n",
    "test.add_string(1, \"111111\")\n",
    "test.add_string(0, \"1\")\n",
    "test.add_string(0, \"1111\")\n",
    "test.add_string(1, \"101010\")\n",
    "test.add_string(1, \"010101\")\n",
    "test.show_dfa()"
   ]
  },
  {
   "cell_type": "code",
   "execution_count": 76,
   "id": "529272fa-ad81-4998-b3b2-b0f5d0f8e549",
   "metadata": {
    "tags": []
   },
   "outputs": [],
   "source": [
    "to_print = False\n",
    "test4 = dfa(0,0)\n",
    "test4.add_string(0,\"\")\n",
    "test4.add_string(0,\"1\")\n",
    "test4.add_string(0,\"00\")\n",
    "test4.add_string(0,\"01\")\n",
    "test4.add_string(0,\"10\")\n",
    "test4.add_string(0,\"11\")\n",
    "test4.add_string(0,\"000\")\n",
    "test4.add_string(0,\"001\")\n",
    "test4.add_string(0,\"010\")\n",
    "test4.add_string(0,\"011\")\n",
    "test4.add_string(0,\"100\")\n",
    "test4.add_string(1,\"101\")\n",
    "test4.add_string(0,\"110\")\n",
    "test4.add_string(0,\"111\")\n",
    "test4.add_string(0,\"0000\")\n",
    "test4.add_string(0,\"0001\")\n",
    "test4.add_string(0,\"0010\")\n",
    "test4.add_string(0,\"0100\")\n",
    "test4.add_string(1,\"0101\")\n",
    "test4.add_string(0,\"0110\")\n",
    "test4.add_string(0,\"0111\")\n",
    "test4.add_string(0,\"1000\")\n",
    "test4.add_string(0,\"1001\")\n",
    "test4.add_string(1,\"1010\")\n",
    "test4.add_string(1,\"1011\")\n",
    "test4.add_string(0,\"1100\")\n",
    "test4.add_string(0,\"1101\")\n",
    "test4.add_string(0,\"1110\")\n",
    "test4.add_string(0,\"1111\")\n",
    "#test4.show_dfa()"
   ]
  },
  {
   "cell_type": "code",
   "execution_count": 77,
   "id": "4e10a81d-0dfb-4576-9455-346377d090cf",
   "metadata": {
    "tags": []
   },
   "outputs": [
    {
     "name": "stdout",
     "output_type": "stream",
     "text": [
      "\n",
      "showing dfa\n",
      "flag:  [0, 1, 2, 5]\n",
      "delta:  [0, 1, 2, 0, 0, 3, 3, 3]\n",
      "f:  [3]\n",
      "not_f:  [0, 1, 2] \n",
      "\n"
     ]
    },
    {
     "data": {
      "image/png": "[encoded data removed]",
      "text/plain": [
       "<IPython.core.display.Image object>"
      ]
     },
     "metadata": {},
     "output_type": "display_data"
    }
   ],
   "source": [
    "test4.show_dfa()\n",
    "test4.draw_dfa()"
   ]
  },
  {
   "cell_type": "code",
   "execution_count": 89,
   "id": "b62794c1-0830-4214-9596-6e12a0f8a182",
   "metadata": {
    "tags": []
   },
   "outputs": [
    {
     "name": "stdout",
     "output_type": "stream",
     "text": [
      "\n",
      "showing dfa\n",
      "flag:  [0, 1]\n",
      "delta:  [0, 1, 1, 0]\n",
      "f:  [0]\n",
      "not_f:  [1] \n",
      "\n",
      "\n",
      "showing dfa\n",
      "flag:  [0, 0, 1, 5]\n",
      "delta:  [1, 2, 0, 2, 2, 3, 3, 2]\n",
      "f:  [0, 3]\n",
      "not_f:  [0, 1, 2, 3] \n",
      "\n",
      "\n",
      "showing dfa\n",
      "flag:  [0, 0, 1, 5]\n",
      "delta:  [1, 2, 0, 2, 2, 3, 3, 2]\n",
      "f:  [0, 3]\n",
      "not_f:  [0, 1, 2, 3] \n",
      "\n"
     ]
    }
   ],
   "source": [
    "testeven = dfa(0,0)\n",
    "testeven.add_string(1, \"\")\n",
    "testeven.add_string(1, \"11\")\n",
    "testeven.add_string(1, \"00\")\n",
    "testeven.add_string(1, \"1100\")\n",
    "testeven.add_string(1, \"1010\")\n",
    "testeven.add_string(1, \"0101\")\n",
    "testeven.add_string(1, \"1001\")\n",
    "testeven.add_string(1, \"11100010\")\n",
    "testeven.add_string(0, \"01\")\n",
    "testeven.add_string(0, \"1\")\n",
    "testeven.show_dfa()\n",
    "testeven.add_string(0, \"0\")\n",
    "testeven.show_dfa()\n",
    "testeven.add_string(0, \"111\")\n",
    "testeven.add_string(0, \"11100\")\n",
    "testeven.add_string(0, \"11000\")\n",
    "testeven.add_string(0, \"011\")\n",
    "testeven.add_string(0, \"110\")\n",
    "testeven.show_dfa()"
   ]
  },
  {
   "cell_type": "code",
   "execution_count": 81,
   "id": "e2d3bf34-8194-4612-91e5-ed68eede32df",
   "metadata": {
    "tags": []
   },
   "outputs": [
    {
     "data": {
      "image/png": "[encoded data removed]",
      "text/plain": [
       "<IPython.core.display.Image object>"
      ]
     },
     "metadata": {},
     "output_type": "display_data"
    }
   ],
   "source": [
    "testeven.draw_dfa()"
   ]
  },
  {
   "cell_type": "code",
   "execution_count": null,
   "id": "e273a0a5-d739-4aa4-b149-037d53cd0fc6",
   "metadata": {},
   "outputs": [],
   "source": [
    "%%timeit\n",
    "gen(4)"
   ]
  },
  {
   "cell_type": "code",
   "execution_count": null,
   "id": "854eafa5",
   "metadata": {},
   "outputs": [],
   "source": [
    "gen(2)"
   ]
  },
  {
   "cell_type": "code",
   "execution_count": null,
   "id": "736ead4f",
   "metadata": {},
   "outputs": [],
   "source": [
    "gen(3)"
   ]
  },
  {
   "cell_type": "code",
   "execution_count": null,
   "id": "13d8ba0f",
   "metadata": {},
   "outputs": [],
   "source": [
    "NextIcdfa0([0, 1, 0, 2, 0, 3, 0, 0], f)"
   ]
  },
  {
   "cell_type": "code",
   "execution_count": null,
   "id": "f53c5fc7",
   "metadata": {},
   "outputs": [],
   "source": [
    "f = [0] + [i*2-1 for i in range(1,2)]\n",
    "f"
   ]
  },
  {
   "cell_type": "code",
   "execution_count": null,
   "id": "5c0d3c91",
   "metadata": {},
   "outputs": [],
   "source": [
    "while f != -1:\n",
    "    f = nextFlags(f)\n",
    "    print(f)"
   ]
  },
  {
   "cell_type": "code",
   "execution_count": null,
   "id": "48cf2bfd",
   "metadata": {},
   "outputs": [],
   "source": [
    "NextIcdfa0(-1, f)"
   ]
  },
  {
   "cell_type": "code",
   "execution_count": null,
   "id": "00e28fde",
   "metadata": {},
   "outputs": [],
   "source": [
    "NextIcdfa0([0, 1, 0, 0], f)"
   ]
  },
  {
   "cell_type": "code",
   "execution_count": null,
   "id": "fc1ad9a3",
   "metadata": {},
   "outputs": [],
   "source": [
    "NextIcdfa0([1, 1, 0, 0], f)"
   ]
  },
  {
   "cell_type": "code",
   "execution_count": null,
   "id": "c3fa5b3c",
   "metadata": {},
   "outputs": [],
   "source": [
    "NextIcdfa0(-1, [0, 0])"
   ]
  },
  {
   "cell_type": "code",
   "execution_count": null,
   "id": "05ffcd7c",
   "metadata": {},
   "outputs": [],
   "source": [
    "NextIcdfa0([1, 0, 0, 0], [0, 0])"
   ]
  },
  {
   "cell_type": "code",
   "execution_count": null,
   "id": "b964725f",
   "metadata": {},
   "outputs": [],
   "source": [
    "NextIcdfa0([1, 1, 0, 0], [0, 0])"
   ]
  },
  {
   "cell_type": "code",
   "execution_count": null,
   "id": "c7eac604",
   "metadata": {},
   "outputs": [],
   "source": [
    "!jt -t monokai"
   ]
  },
  {
   "cell_type": "code",
   "execution_count": null,
   "id": "2f06f4b9",
   "metadata": {},
   "outputs": [],
   "source": [
    "asd = [[1,1]]\n",
    "[1,0] in asd"
   ]
  },
  {
   "cell_type": "code",
   "execution_count": null,
   "id": "51a522f1-1639-47dd-9ca0-4d748b66a50d",
   "metadata": {},
   "outputs": [],
   "source": [
    "a = [1,2,3,4]\n",
    "b = [2,3]\n",
    "a-b"
   ]
  },
  {
   "cell_type": "code",
   "execution_count": null,
   "id": "73de0615-f4e0-44cd-bc14-0916c7bf70fa",
   "metadata": {},
   "outputs": [],
   "source": [
    "a = [0,[1,1]]"
   ]
  },
  {
   "cell_type": "code",
   "execution_count": null,
   "id": "3aaa53f4-09ab-4d73-8e33-5cbb2495a9bd",
   "metadata": {},
   "outputs": [],
   "source": [
    "a = [2,1,3]\n",
    "a.sort()\n",
    "a"
   ]
  },
  {
   "cell_type": "code",
   "execution_count": null,
   "id": "bb29ea3b-fb64-4c1f-a667-dc0646e77605",
   "metadata": {},
   "outputs": [],
   "source": [
    "a = \"010101\"\n",
    "b = 0\n",
    "for i in range(len(a)):\n",
    "    b += int(a[i])\n",
    "    \n",
    "b"
   ]
  },
  {
   "cell_type": "code",
   "execution_count": null,
   "id": "348ae795-bbf5-4d6c-8697-52e74c2f5a18",
   "metadata": {},
   "outputs": [],
   "source": [
    "a = [1,2,3]\n",
    "b = [4,5,6]\n",
    "for x in list(itertools.combinations(a, 2)) + list(itertools.combinations(b, 2)):\n",
    "    print(x)"
   ]
  },
  {
   "cell_type": "code",
   "execution_count": null,
   "id": "16963228-7fae-428a-a0c7-ebe01ce1be6b",
   "metadata": {},
   "outputs": [],
   "source": [
    "a = {1,2}\n",
    "\n",
    "b = {2,1}\n",
    "a == b"
   ]
  },
  {
   "cell_type": "code",
   "execution_count": null,
   "id": "fba880e8-6d5b-4653-819d-fde75a2056e0",
   "metadata": {},
   "outputs": [],
   "source": [
    "a.add(3)\n",
    "a"
   ]
  },
  {
   "cell_type": "code",
   "execution_count": null,
   "id": "dc2aef44-7bde-46e3-abab-f49733f4f518",
   "metadata": {},
   "outputs": [],
   "source": [
    "dicti = {}\n",
    "dicti[(1,2)] = \"hi\"\n",
    "dicti[(1,2)]"
   ]
  },
  {
   "cell_type": "code",
   "execution_count": null,
   "id": "be683636-face-4256-9df5-3f69da2b8c62",
   "metadata": {},
   "outputs": [],
   "source": [
    "a = [0,1,2,3,4]\n",
    "b = []\n",
    "for i in range(len(a)):\n",
    "    for j in range(i+1, len(a)):\n",
    "        b += [[i,j]]\n",
    "        \n",
    "print(a)\n",
    "print(b)"
   ]
  },
  {
   "cell_type": "code",
   "execution_count": null,
   "id": "1bffaa44-5150-4329-8b32-959a4b94af94",
   "metadata": {},
   "outputs": [],
   "source": [
    "a = [0,1]\n",
    "a.sort()\n",
    "print(a)"
   ]
  },
  {
   "cell_type": "code",
   "execution_count": 7,
   "id": "875e6978-7d16-4552-98d6-47fd7ce0e787",
   "metadata": {},
   "outputs": [
    {
     "name": "stdout",
     "output_type": "stream",
     "text": [
      "Help on class Graph in module pydot:\n",
      "\n",
      "class Graph(Common)\n",
      " |  Graph(graph_name='G', obj_dict=None, graph_type='digraph', strict=False, suppress_disconnected=False, simplify=False, **attrs)\n",
      " |  \n",
      " |  Class representing a graph in Graphviz's dot language.\n",
      " |  \n",
      " |  This class implements the methods to work on a representation\n",
      " |  of a graph in Graphviz's dot language.\n",
      " |  \n",
      " |  graph(  graph_name='G', graph_type='digraph',\n",
      " |      strict=False, suppress_disconnected=False, attribute=value, ...)\n",
      " |  \n",
      " |  graph_name:\n",
      " |      the graph's name\n",
      " |  graph_type:\n",
      " |      can be 'graph' or 'digraph'\n",
      " |  suppress_disconnected:\n",
      " |      defaults to False, which will remove from the\n",
      " |      graph any disconnected nodes.\n",
      " |  simplify:\n",
      " |      if True it will avoid displaying equal edges, i.e.\n",
      " |      only one edge between two nodes. removing the\n",
      " |      duplicated ones.\n",
      " |  \n",
      " |  All the attributes defined in the Graphviz dot language should\n",
      " |  be supported.\n",
      " |  \n",
      " |  Attributes can be set through the dynamically generated methods:\n",
      " |  \n",
      " |   set_[attribute name], i.e. set_size, set_fontname\n",
      " |  \n",
      " |  or using the instance's attributes:\n",
      " |  \n",
      " |   Graph.obj_dict['attributes'][attribute name], i.e.\n",
      " |  \n",
      " |      graph_instance.obj_dict['attributes']['label']\n",
      " |      graph_instance.obj_dict['attributes']['fontname']\n",
      " |  \n",
      " |  Method resolution order:\n",
      " |      Graph\n",
      " |      Common\n",
      " |      builtins.object\n",
      " |  \n",
      " |  Methods defined here:\n",
      " |  \n",
      " |  __init__(self, graph_name='G', obj_dict=None, graph_type='digraph', strict=False, suppress_disconnected=False, simplify=False, **attrs)\n",
      " |      Initialize self.  See help(type(self)) for accurate signature.\n",
      " |  \n",
      " |  __str__(self)\n",
      " |      Return str(self).\n",
      " |  \n",
      " |  add_edge(self, graph_edge)\n",
      " |      Adds an edge object to the graph.\n",
      " |      \n",
      " |      It takes a edge object as its only argument and returns\n",
      " |      None.\n",
      " |  \n",
      " |  add_node(self, graph_node)\n",
      " |      Adds a node object to the graph.\n",
      " |      \n",
      " |      It takes a node object as its only argument and returns\n",
      " |      None.\n",
      " |  \n",
      " |  add_subgraph(self, sgraph)\n",
      " |      Adds an subgraph object to the graph.\n",
      " |      \n",
      " |      It takes a subgraph object as its only argument and returns\n",
      " |      None.\n",
      " |  \n",
      " |  del_edge(self, src_or_list, dst=None, index=None)\n",
      " |      Delete an edge from the graph.\n",
      " |      \n",
      " |      Given an edge's (source, destination) node names all\n",
      " |      matching edges(s) will be deleted if 'index' is not\n",
      " |      specified or set to None.\n",
      " |      If there are several matching edges and 'index' is\n",
      " |      given, only the edge in that position will be deleted.\n",
      " |      \n",
      " |      'index' should be an integer specifying the position\n",
      " |      of the edge to delete. If index is larger than the\n",
      " |      number of matching edges, no action is taken.\n",
      " |      \n",
      " |      If edges are deleted it returns True. If no action\n",
      " |      is taken it returns False.\n",
      " |  \n",
      " |  del_node(self, name, index=None)\n",
      " |      Delete a node from the graph.\n",
      " |      \n",
      " |      Given a node's name all node(s) with that same name\n",
      " |      will be deleted if 'index' is not specified or set\n",
      " |      to None.\n",
      " |      If there are several nodes with that same name and\n",
      " |      'index' is given, only the node in that position\n",
      " |      will be deleted.\n",
      " |      \n",
      " |      'index' should be an integer specifying the position\n",
      " |      of the node to delete. If index is larger than the\n",
      " |      number of nodes with that name, no action is taken.\n",
      " |      \n",
      " |      If nodes are deleted it returns True. If no action\n",
      " |      is taken it returns False.\n",
      " |  \n",
      " |  get_edge(self, src_or_list, dst=None)\n",
      " |      Retrieved an edge from the graph.\n",
      " |      \n",
      " |      Given an edge's source and destination the corresponding\n",
      " |      Edge instance(s) will be returned.\n",
      " |      \n",
      " |      If one or more edges exist with that source and destination\n",
      " |      a list of Edge instances is returned.\n",
      " |      An empty list is returned otherwise.\n",
      " |  \n",
      " |  get_edge_defaults(self, **attrs)\n",
      " |  \n",
      " |  get_edge_list(self)\n",
      " |      Get the list of Edge instances.\n",
      " |      \n",
      " |      This method returns the list of Edge instances\n",
      " |      composing the graph.\n",
      " |  \n",
      " |  get_edges(self)\n",
      " |  \n",
      " |  get_graph_defaults(self, **attrs)\n",
      " |  \n",
      " |  get_graph_type(self)\n",
      " |  \n",
      " |  get_name(self)\n",
      " |      Get the graph's name.\n",
      " |  \n",
      " |  get_next_sequence_number(self)\n",
      " |  \n",
      " |  get_node(self, name)\n",
      " |      Retrieve a node from the graph.\n",
      " |      \n",
      " |      Given a node's name the corresponding Node\n",
      " |      instance will be returned.\n",
      " |      \n",
      " |      If one or more nodes exist with that name a list of\n",
      " |      Node instances is returned.\n",
      " |      An empty list is returned otherwise.\n",
      " |  \n",
      " |  get_node_defaults(self, **attrs)\n",
      " |  \n",
      " |  get_node_list(self)\n",
      " |      Get the list of Node instances.\n",
      " |      \n",
      " |      This method returns the list of Node instances\n",
      " |      composing the graph.\n",
      " |  \n",
      " |  get_nodes(self)\n",
      " |      Get the list of Node instances.\n",
      " |  \n",
      " |  get_simplify(self)\n",
      " |      Get whether to simplify or not.\n",
      " |      \n",
      " |      Refer to set_simplify for more information.\n",
      " |  \n",
      " |  get_strict(self, val)\n",
      " |      Get graph's 'strict' mode (True, False).\n",
      " |      \n",
      " |      This option is only valid for top level graphs.\n",
      " |  \n",
      " |  get_subgraph(self, name)\n",
      " |      Retrieved a subgraph from the graph.\n",
      " |      \n",
      " |      Given a subgraph's name the corresponding\n",
      " |      Subgraph instance will be returned.\n",
      " |      \n",
      " |      If one or more subgraphs exist with the same name, a list of\n",
      " |      Subgraph instances is returned.\n",
      " |      An empty list is returned otherwise.\n",
      " |  \n",
      " |  get_subgraph_list(self)\n",
      " |      Get the list of Subgraph instances.\n",
      " |      \n",
      " |      This method returns the list of Subgraph instances\n",
      " |      in the graph.\n",
      " |  \n",
      " |  get_subgraphs(self)\n",
      " |  \n",
      " |  get_suppress_disconnected(self, val)\n",
      " |      Get if suppress disconnected is set.\n",
      " |      \n",
      " |      Refer to set_suppress_disconnected for more information.\n",
      " |  \n",
      " |  get_top_graph_type(self)\n",
      " |  \n",
      " |  get_type(self)\n",
      " |      Get the graph's type, 'graph' or 'digraph'.\n",
      " |  \n",
      " |  set_edge_defaults(self, **attrs)\n",
      " |  \n",
      " |  set_graph_defaults(self, **attrs)\n",
      " |  \n",
      " |  set_name(self, graph_name)\n",
      " |      Set the graph's name.\n",
      " |  \n",
      " |  set_node_defaults(self, **attrs)\n",
      " |      Define default node attributes.\n",
      " |      \n",
      " |      These attributes only apply to nodes added to the graph after\n",
      " |      calling this method.\n",
      " |  \n",
      " |  set_parent_graph(self, parent_graph)\n",
      " |  \n",
      " |  set_simplify(self, simplify)\n",
      " |      Set whether to simplify or not.\n",
      " |      \n",
      " |      If True it will avoid displaying equal edges, i.e.\n",
      " |      only one edge between two nodes. removing the\n",
      " |      duplicated ones.\n",
      " |  \n",
      " |  set_strict(self, val)\n",
      " |      Set graph to 'strict' mode.\n",
      " |      \n",
      " |      This option is only valid for top level graphs.\n",
      " |  \n",
      " |  set_suppress_disconnected(self, val)\n",
      " |      Suppress disconnected nodes in the output graph.\n",
      " |      \n",
      " |      This option will skip nodes in\n",
      " |      the graph with no incoming or outgoing\n",
      " |      edges. This option works also\n",
      " |      for subgraphs and has effect only in the\n",
      " |      current graph/subgraph.\n",
      " |  \n",
      " |  set_type(self, graph_type)\n",
      " |      Set the graph's type, 'graph' or 'digraph'.\n",
      " |  \n",
      " |  to_string(self)\n",
      " |      Return string representation of graph in DOT language.\n",
      " |      \n",
      " |      @return: graph and subelements\n",
      " |      @rtype: `str`\n",
      " |  \n",
      " |  ----------------------------------------------------------------------\n",
      " |  Methods inherited from Common:\n",
      " |  \n",
      " |  __get_attribute__(self, attr)\n",
      " |      Look for default attributes for this node\n",
      " |  \n",
      " |  __getstate__(self)\n",
      " |  \n",
      " |  __setstate__(self, state)\n",
      " |  \n",
      " |  create_attribute_methods(self, obj_attributes)\n",
      " |  \n",
      " |  get(self, name)\n",
      " |      Get an attribute value by name.\n",
      " |      \n",
      " |      Given an attribute 'name' it will get its value.\n",
      " |      There's always the possibility of using the methods:\n",
      " |      \n",
      " |          get_'name'()\n",
      " |      \n",
      " |      which are defined for all the existing attributes.\n",
      " |  \n",
      " |  get_attributes(self)\n",
      " |  \n",
      " |  get_parent_graph(self)\n",
      " |  \n",
      " |  get_sequence(self)\n",
      " |  \n",
      " |  set(self, name, value)\n",
      " |      Set an attribute value by name.\n",
      " |      \n",
      " |      Given an attribute 'name' it will set its value to 'value'.\n",
      " |      There's always the possibility of using the methods:\n",
      " |      \n",
      " |          set_'name'(value)\n",
      " |      \n",
      " |      which are defined for all the existing attributes.\n",
      " |  \n",
      " |  set_sequence(self, seq)\n",
      " |  \n",
      " |  ----------------------------------------------------------------------\n",
      " |  Data descriptors inherited from Common:\n",
      " |  \n",
      " |  __dict__\n",
      " |      dictionary for instance variables (if defined)\n",
      " |  \n",
      " |  __weakref__\n",
      " |      list of weak references to the object (if defined)\n",
      "\n"
     ]
    }
   ],
   "source": [
    "help(pydot.Graph)"
   ]
  },
  {
   "cell_type": "code",
   "execution_count": 8,
   "id": "69717b9d-ed4e-4528-922e-fb4d3b8f466d",
   "metadata": {
    "tags": []
   },
   "outputs": [],
   "source": [
    "graph = pydot.Dot(\"test\", graph_type=\"graph\", bgcolor=\"white\")"
   ]
  },
  {
   "cell_type": "code",
   "execution_count": 10,
   "id": "5fb8257b-20a0-4945-ab63-b85c1f7ef653",
   "metadata": {
    "tags": []
   },
   "outputs": [],
   "source": [
    "graph.add_node(pydot.Node(\"0\"))\n",
    "graph.add_node(pydot.Node(\"1\"))\n",
    "graph.add_edge(pydot.Edge(\"0\", \"1\", label=\"0\"))"
   ]
  },
  {
   "cell_type": "code",
   "execution_count": 11,
   "id": "abd54f4b-ca8b-4a55-ac96-f4afa577e933",
   "metadata": {
    "tags": []
   },
   "outputs": [],
   "source": [
    "graph.write_png(\"out.png\")"
   ]
  },
  {
   "cell_type": "code",
   "execution_count": 14,
   "id": "52f53226-a8f1-4204-9985-3b517f2ff3ff",
   "metadata": {
    "tags": []
   },
   "outputs": [
    {
     "data": {
      "image/png": "[encoded data removed]",
      "text/plain": [
       "<IPython.core.display.Image object>"
      ]
     },
     "metadata": {},
     "output_type": "display_data"
    }
   ],
   "source": [
    "display(Image(filename='out.png'))"
   ]
  },
  {
   "cell_type": "code",
   "execution_count": 63,
   "id": "d1ba5b68-d10a-47e8-ae10-f241d3c12835",
   "metadata": {
    "tags": []
   },
   "outputs": [
    {
     "data": {
      "image/png": "[encoded data removed]",
      "text/plain": [
       "<IPython.core.display.Image object>"
      ]
     },
     "metadata": {},
     "output_type": "display_data"
    },
    {
     "data": {
      "image/png": "[encoded data removed]",
      "text/plain": [
       "<IPython.core.display.Image object>"
      ]
     },
     "metadata": {},
     "output_type": "display_data"
    }
   ],
   "source": [
    "graph = pydot.Dot(\"test\", graph_type=\"graph\", bgcolor=\"white\")\n",
    "graph.add_node(pydot.Node(\" \", shape=\"none\", height=.0, width=.0))\n",
    "graph.add_node(pydot.Node(\"0\", shape=\"circle\"))\n",
    "graph.add_node(pydot.Node(\"1\", shape=\"circle\"))\n",
    "graph.add_node(pydot.Node(\"2\", shape=\"circle\"))\n",
    "graph.add_edge(pydot.Edge(\" \", \"0\", label=\"\", dir=\"both\", arrowtail=\"dot\"))\n",
    "graph.add_edge(pydot.Edge(\"0\", \"1\", label=\"2\", dir=\"forward\"))\n",
    "graph.add_edge(pydot.Edge(\"1\", \"2\", label=\"2\", dir=\"forward\"))\n",
    "graph.add_edge(pydot.Edge(\"0\", \"2\", label=\"2\", dir=\"forward\"))\n",
    "\n",
    "graph.write_png(\"out.png\")\n",
    "display(Image(filename='out.png'))\n",
    "display(Image(filename='out.png'))"
   ]
  },
  {
   "cell_type": "code",
   "execution_count": 32,
   "id": "fcb308bd-c8e8-4b80-847f-04fcf329e818",
   "metadata": {
    "tags": []
   },
   "outputs": [
    {
     "data": {
      "text/plain": [
       "'test1.png'"
      ]
     },
     "execution_count": 32,
     "metadata": {},
     "output_type": "execute_result"
    }
   ],
   "source": [
    "a = \"test\"\n",
    "b = 1\n",
    "a + str(b) + \".png\""
   ]
  },
  {
   "cell_type": "code",
   "execution_count": 59,
   "id": "cb563b9d-cb6b-47cb-9ce8-758bcfada882",
   "metadata": {
    "tags": []
   },
   "outputs": [
    {
     "name": "stdout",
     "output_type": "stream",
     "text": [
      "Help on class Edge in module pydot:\n",
      "\n",
      "class Edge(Common)\n",
      " |  Edge(src='', dst='', obj_dict=None, **attrs)\n",
      " |  \n",
      " |  A graph edge.\n",
      " |  \n",
      " |  This class represents a graph's edge with all its attributes.\n",
      " |  \n",
      " |  edge(src, dst, attribute=value, ...)\n",
      " |  \n",
      " |  src: source node, subgraph or cluster\n",
      " |  dst: destination node, subgraph or cluster\n",
      " |  \n",
      " |  `src` and `dst` can be specified as a `Node`, `Subgraph` or\n",
      " |  `Cluster` object, or as the name string of such a component.\n",
      " |  \n",
      " |  All the attributes defined in the Graphviz dot language should\n",
      " |  be supported.\n",
      " |  \n",
      " |      Attributes can be set through the dynamically generated methods:\n",
      " |  \n",
      " |   set_[attribute name], i.e. set_label, set_fontname\n",
      " |  \n",
      " |  or directly by using the instance's special dictionary:\n",
      " |  \n",
      " |   Edge.obj_dict['attributes'][attribute name], i.e.\n",
      " |  \n",
      " |      edge_instance.obj_dict['attributes']['label']\n",
      " |      edge_instance.obj_dict['attributes']['fontname']\n",
      " |  \n",
      " |  Method resolution order:\n",
      " |      Edge\n",
      " |      Common\n",
      " |      builtins.object\n",
      " |  \n",
      " |  Methods defined here:\n",
      " |  \n",
      " |  __eq__(self, edge)\n",
      " |      Compare two edges.\n",
      " |      \n",
      " |      If the parent graph is directed, arcs linking\n",
      " |      node A to B are considered equal and A->B != B->A\n",
      " |      \n",
      " |      If the parent graph is undirected, any edge\n",
      " |      connecting two nodes is equal to any other\n",
      " |      edge connecting the same nodes, A->B == B->A\n",
      " |  \n",
      " |  __hash__(self)\n",
      " |      Return hash(self).\n",
      " |  \n",
      " |  __init__(self, src='', dst='', obj_dict=None, **attrs)\n",
      " |      Initialize self.  See help(type(self)) for accurate signature.\n",
      " |  \n",
      " |  __str__(self)\n",
      " |      Return str(self).\n",
      " |  \n",
      " |  get_destination(self)\n",
      " |      Get the edge's destination node name.\n",
      " |  \n",
      " |  get_source(self)\n",
      " |      Get the edges source node name.\n",
      " |  \n",
      " |  parse_node_ref(self, node_str)\n",
      " |  \n",
      " |  to_string(self)\n",
      " |      Return string representation of edge in DOT language.\n",
      " |  \n",
      " |  ----------------------------------------------------------------------\n",
      " |  Methods inherited from Common:\n",
      " |  \n",
      " |  __get_attribute__(self, attr)\n",
      " |      Look for default attributes for this node\n",
      " |  \n",
      " |  __getstate__(self)\n",
      " |  \n",
      " |  __setstate__(self, state)\n",
      " |  \n",
      " |  create_attribute_methods(self, obj_attributes)\n",
      " |  \n",
      " |  get(self, name)\n",
      " |      Get an attribute value by name.\n",
      " |      \n",
      " |      Given an attribute 'name' it will get its value.\n",
      " |      There's always the possibility of using the methods:\n",
      " |      \n",
      " |          get_'name'()\n",
      " |      \n",
      " |      which are defined for all the existing attributes.\n",
      " |  \n",
      " |  get_attributes(self)\n",
      " |  \n",
      " |  get_parent_graph(self)\n",
      " |  \n",
      " |  get_sequence(self)\n",
      " |  \n",
      " |  set(self, name, value)\n",
      " |      Set an attribute value by name.\n",
      " |      \n",
      " |      Given an attribute 'name' it will set its value to 'value'.\n",
      " |      There's always the possibility of using the methods:\n",
      " |      \n",
      " |          set_'name'(value)\n",
      " |      \n",
      " |      which are defined for all the existing attributes.\n",
      " |  \n",
      " |  set_parent_graph(self, parent_graph)\n",
      " |  \n",
      " |  set_sequence(self, seq)\n",
      " |  \n",
      " |  ----------------------------------------------------------------------\n",
      " |  Data descriptors inherited from Common:\n",
      " |  \n",
      " |  __dict__\n",
      " |      dictionary for instance variables (if defined)\n",
      " |  \n",
      " |  __weakref__\n",
      " |      list of weak references to the object (if defined)\n",
      "\n"
     ]
    }
   ],
   "source": [
    "help(pydot.Edge)"
   ]
  },
  {
   "cell_type": "code",
   "execution_count": null,
   "id": "ffd15208-b357-46c2-8c6b-9de7ebdff28e",
   "metadata": {},
   "outputs": [],
   "source": []
  }
 ],
 "metadata": {
  "kernelspec": {
   "display_name": "Python 3 (ipykernel)",
   "language": "python",
   "name": "python3"
  },
  "language_info": {
   "codemirror_mode": {
    "name": "ipython",
    "version": 3
   },
   "file_extension": ".py",
   "mimetype": "text/x-python",
   "name": "python",
   "nbconvert_exporter": "python",
   "pygments_lexer": "ipython3",
   "version": "3.10.11"
  }
 },
 "nbformat": 4,
 "nbformat_minor": 5
}
