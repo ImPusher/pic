{
 "cells": [
  {
   "cell_type": "code",
   "execution_count": 3,
   "id": "4b75a0ed-5f80-4639-a9dd-33033200cdb5",
   "metadata": {},
   "outputs": [],
   "source": [
    "from ipynb.fs.full.dfa import *"
   ]
  },
  {
   "cell_type": "code",
   "execution_count": 4,
   "id": "8de1eb04-6976-496e-bc01-b1170b9583fb",
   "metadata": {},
   "outputs": [
    {
     "name": "stdout",
     "output_type": "stream",
     "text": [
      "3883"
     ]
    }
   ],
   "source": [
    "testeven = dfa(0,0)\n",
    "testeven.add_string(1, \"\")\n",
    "testeven.add_string(1, \"11\")\n",
    "testeven.add_string(1, \"00\")\n",
    "testeven.add_string(1, \"1100\")\n",
    "testeven.add_string(1, \"1010\")\n",
    "testeven.add_string(1, \"0101\")\n",
    "testeven.add_string(1, \"1001\")\n",
    "testeven.add_string(1, \"11100010\")\n",
    "testeven.add_string(0, \"01\")\n",
    "testeven.add_string(0, \"1\")\n",
    "testeven.add_string(0, \"0\")\n",
    "testeven.add_string(0, \"111\")\n",
    "testeven.add_string(0, \"11100\")\n",
    "testeven.add_string(0, \"11000\")\n",
    "testeven.add_string(0, \"011\")\n",
    "testeven.add_string(0, \"110\")\n",
    "testeven.draw_dfa()"
   ]
  },
  {
   "cell_type": "code",
   "execution_count": null,
   "id": "e1d9633f-142a-4a44-97de-f81a99ad2184",
   "metadata": {},
   "outputs": [],
   "source": []
  }
 ],
 "metadata": {
  "kernelspec": {
   "display_name": "Python 3 (ipykernel)",
   "language": "python",
   "name": "python3"
  },
  "language_info": {
   "codemirror_mode": {
    "name": "ipython",
    "version": 3
   },
   "file_extension": ".py",
   "mimetype": "text/x-python",
   "name": "python",
   "nbconvert_exporter": "python",
   "pygments_lexer": "ipython3",
   "version": "3.10.10"
  }
 },
 "nbformat": 4,
 "nbformat_minor": 5
}
