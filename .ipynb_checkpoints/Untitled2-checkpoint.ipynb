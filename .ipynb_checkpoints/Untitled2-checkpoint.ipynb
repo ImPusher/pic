{
 "cells": [
  {
   "cell_type": "code",
   "execution_count": 1,
   "id": "eb7f1361-c93c-4ad4-8e86-b70949c402a1",
   "metadata": {},
   "outputs": [],
   "source": [
    "import tkinter as tk\n",
    "from PIL import ImageTk, Image\n",
    "\n",
    "root = tk.Tk()"
   ]
  },
  {
   "cell_type": "code",
   "execution_count": 2,
   "id": "99d317ab-0d78-4823-a0ab-89bf4a7f3a67",
   "metadata": {},
   "outputs": [],
   "source": [
    "list1_strings = []\n",
    "# Create the first scrollable list\n",
    "list1_frame = tk.Frame(root)\n",
    "list1_frame.grid(row=0, column=0, padx=10, pady=10)\n",
    "\n",
    "list1_title_label = tk.Label(list1_frame, text=\"List 1\")\n",
    "list1_title_label.pack()\n",
    "\n",
    "list1_scrollbar = tk.Scrollbar(list1_frame)\n",
    "list1_scrollbar.pack(side=tk.RIGHT, fill=tk.Y)\n",
    "\n",
    "list1_listbox = tk.Listbox(list1_frame, yscrollcommand=list1_scrollbar.set)\n",
    "list1_listbox.pack(side=tk.LEFT, fill=tk.BOTH)\n",
    "\n",
    "list1_scrollbar.config(command=list1_listbox.yview)\n",
    "\n",
    "def list1_add_string(string):\n",
    "    list1_strings.append(string)\n",
    "    if string == \"\":\n",
    "        list1_listbox.insert(tk.END, \"eps\")\n",
    "    else:\n",
    "        list1_listbox.insert(tk.END, list1_strings[-1])"
   ]
  },
  {
   "cell_type": "code",
   "execution_count": 3,
   "id": "8345fed5-ebc7-4229-942d-3bf22377a551",
   "metadata": {},
   "outputs": [],
   "source": [
    "list2_strings = []\n",
    "# Create the second scrollable list\n",
    "list2_frame = tk.Frame(root)\n",
    "list2_frame.grid(row=0, column=1, padx=10, pady=10)\n",
    "\n",
    "list2_title_label = tk.Label(list2_frame, text=\"List 2\")\n",
    "list2_title_label.pack()\n",
    "\n",
    "list2_scrollbar = tk.Scrollbar(list2_frame)\n",
    "list2_scrollbar.pack(side=tk.RIGHT, fill=tk.Y)\n",
    "\n",
    "list2_listbox = tk.Listbox(list2_frame, yscrollcommand=list2_scrollbar.set)\n",
    "list2_listbox.pack(side=tk.LEFT, fill=tk.BOTH)\n",
    "\n",
    "list2_scrollbar.config(command=list2_listbox.yview)"
   ]
  },
  {
   "cell_type": "code",
   "execution_count": 4,
   "id": "c5bec6d6-0c12-4741-bbb6-4ffb474fe3cd",
   "metadata": {},
   "outputs": [],
   "source": [
    "def clear_text_1(event):\n",
    "    current_text = input_entry1.get()\n",
    "    if current_text == accept_text:\n",
    "        input_entry1.delete(0, tk.END)\n",
    "        \n",
    "def restore_text_1(event):\n",
    "    current_text = input_entry1.get()\n",
    "    if current_text == \"\":\n",
    "        input_entry1.insert(0, accept_text)\n",
    "\n",
    "def accept_string():\n",
    "    string = input_entry1.get()\n",
    "    if string == accept_text:\n",
    "        return\n",
    "    list1_add_string(string)\n",
    "    input_entry1.delete(0, tk.END)\n",
    "    \n",
    "# Create input boxes for list 1\n",
    "input_frame1 = tk.Frame(root)\n",
    "input_frame1.grid(row=1, column=0, padx=10, pady=10)\n",
    "  \n",
    "accept_text = \"String to accept\"\n",
    "input_entry1 = tk.Entry(input_frame1)\n",
    "input_entry1.insert(0, accept_text)\n",
    "input_entry1.bind(\"<FocusIn>\", clear_text_1)\n",
    "input_entry1.bind(\"<FocusOut>\", restore_text_1)\n",
    "input_entry1.grid(row=0, column=0)\n",
    "\n",
    "button1 = tk.Button(input_frame1, text=\"Accept string\", command=accept_string)\n",
    "button1.grid(row=1, column=0)"
   ]
  },
  {
   "cell_type": "code",
   "execution_count": 5,
   "id": "9da2d8a3-fc57-474e-b2a4-1fcc2a983daa",
   "metadata": {},
   "outputs": [],
   "source": [
    "def clear_text_2(event):\n",
    "    current_text = input_entry2.get()\n",
    "    if current_text == reject_text:\n",
    "        input_entry2.delete(0, tk.END)\n",
    "        \n",
    "def restore_text_2(event):\n",
    "    current_text = input_entry2.get()\n",
    "    if current_text == \"\":\n",
    "        input_entry2.insert(0, reject_text)\n",
    "        \n",
    "# Create input boxes for list 2\n",
    "input_frame2 = tk.Frame(root)\n",
    "input_frame2.grid(row=1, column=1, padx=10, pady=10)\n",
    "\n",
    "input_entry2 = tk.Entry(input_frame2)\n",
    "input_entry2.grid(row=0, column=1)\n",
    "\n",
    "reject_text = \"String to reject\"\n",
    "input_entry2 = tk.Entry(input_frame2)\n",
    "input_entry2.insert(0, reject_text)\n",
    "input_entry2.bind(\"<FocusIn>\", clear_text_2)\n",
    "input_entry2.bind(\"<FocusOut>\", restore_text_2)\n",
    "input_entry2.grid(row=0, column=1)\n",
    "\n",
    "button2 = tk.Button(input_frame2, text=\"Reject string\")\n",
    "button2.grid(row=1, column=1)"
   ]
  },
  {
   "cell_type": "code",
   "execution_count": 6,
   "id": "88e130ec-057d-4bb2-ba86-9aaf74a28d84",
   "metadata": {},
   "outputs": [],
   "source": [
    "image_path = \"out.png\"\n",
    "image = Image.open(image_path)\n",
    "tk_image = ImageTk.PhotoImage(image)\n",
    "\n",
    "image_box = tk.Canvas(root, width=image.width, height=image.height, bg=\"white\")\n",
    "image_box.grid(row=0, column=2, rowspan=2, padx=10, pady=10)\n",
    "image_box.create_image(0, 0, image=tk_image, anchor=\"nw\")\n",
    "\n",
    "root.mainloop()"
   ]
  },
  {
   "cell_type": "code",
   "execution_count": null,
   "id": "46538061-25fc-409a-bf89-012acf4a1557",
   "metadata": {},
   "outputs": [],
   "source": []
  }
 ],
 "metadata": {
  "kernelspec": {
   "display_name": "Python 3 (ipykernel)",
   "language": "python",
   "name": "python3"
  },
  "language_info": {
   "codemirror_mode": {
    "name": "ipython",
    "version": 3
   },
   "file_extension": ".py",
   "mimetype": "text/x-python",
   "name": "python",
   "nbconvert_exporter": "python",
   "pygments_lexer": "ipython3",
   "version": "3.10.10"
  }
 },
 "nbformat": 4,
 "nbformat_minor": 5
}
