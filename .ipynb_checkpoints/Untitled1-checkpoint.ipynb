{
 "cells": [
  {
   "cell_type": "code",
   "execution_count": null,
   "id": "24400a77-02ee-4af2-9fc8-4b543c25942e",
   "metadata": {},
   "outputs": [],
   "source": [
    "def NextIcdfa0(last, flag):\n",
    "    j = 0\n",
    "    l = 1\n",
    "    n = len(flag)\n",
    "    if last != -1:\n",
    "        i = n - 1\n",
    "        s = last\n",
    "        for m in range(k*n-1, -1, -1):\n",
    "            if i != 0 and flag[i] == m:\n",
    "                i -= 1\n",
    "            elif s[m] < i:\n",
    "                break\n",
    "        if m == 0 and (flag[1] != 1 or s[0] == 1):\n",
    "            return -1\n",
    "        else:\n",
    "            s[m] += 1\n",
    "            j += 1\n",
    "            l = i+1\n",
    "    else:\n",
    "        s = [0 for i in range(k*n)]\n",
    "        for i in range(len(flag)):\n",
    "            s[flag[i]] = i\n",
    "    for i in range(j,k*n):\n",
    "        if l < n and i == flag[l]:\n",
    "            l += 1\n",
    "        else:\n",
    "            s[i] == 0\n",
    "    return s\n",
    "\n",
    "NextIcdfa0([1, 1, 1, 1], [0, 0])"
   ]
  },
  {
   "cell_type": "code",
   "execution_count": 1,
   "id": "0414fe34-871d-406f-a4a9-20d7bfe2b318",
   "metadata": {},
   "outputs": [
    {
     "ename": "KeyboardInterrupt",
     "evalue": "",
     "output_type": "error",
     "traceback": [
      "\u001b[0;31m---------------------------------------------------------------------------\u001b[0m",
      "\u001b[0;31mKeyboardInterrupt\u001b[0m                         Traceback (most recent call last)",
      "Cell \u001b[0;32mIn[1], line 60\u001b[0m\n\u001b[1;32m     57\u001b[0m         nextflag(flag)\n\u001b[1;32m     58\u001b[0m     \u001b[38;5;28;01mreturn\u001b[39;00m i\n\u001b[0;32m---> 60\u001b[0m \u001b[43mgen\u001b[49m\u001b[43m(\u001b[49m\u001b[38;5;241;43m2\u001b[39;49m\u001b[43m)\u001b[49m\n",
      "Cell \u001b[0;32mIn[1], line 57\u001b[0m, in \u001b[0;36mgen\u001b[0;34m(n)\u001b[0m\n\u001b[1;32m     55\u001b[0m         i \u001b[38;5;241m+\u001b[39m\u001b[38;5;241m=\u001b[39m \u001b[38;5;241m1\u001b[39m\n\u001b[1;32m     56\u001b[0m         nextdfa(last, flag)\n\u001b[0;32m---> 57\u001b[0m     \u001b[43mnextflag\u001b[49m(flag)\n\u001b[1;32m     58\u001b[0m \u001b[38;5;28;01mreturn\u001b[39;00m i\n",
      "Cell \u001b[0;32mIn[1], line 57\u001b[0m, in \u001b[0;36mgen\u001b[0;34m(n)\u001b[0m\n\u001b[1;32m     55\u001b[0m         i \u001b[38;5;241m+\u001b[39m\u001b[38;5;241m=\u001b[39m \u001b[38;5;241m1\u001b[39m\n\u001b[1;32m     56\u001b[0m         nextdfa(last, flag)\n\u001b[0;32m---> 57\u001b[0m     \u001b[43mnextflag\u001b[49m(flag)\n\u001b[1;32m     58\u001b[0m \u001b[38;5;28;01mreturn\u001b[39;00m i\n",
      "File \u001b[0;32m_pydevd_bundle/pydevd_cython.pyx:1363\u001b[0m, in \u001b[0;36m_pydevd_bundle.pydevd_cython.SafeCallWrapper.__call__\u001b[0;34m()\u001b[0m\n",
      "File \u001b[0;32m_pydevd_bundle/pydevd_cython.pyx:662\u001b[0m, in \u001b[0;36m_pydevd_bundle.pydevd_cython.PyDBFrame.trace_dispatch\u001b[0;34m()\u001b[0m\n",
      "File \u001b[0;32m_pydevd_bundle/pydevd_cython.pyx:1288\u001b[0m, in \u001b[0;36m_pydevd_bundle.pydevd_cython.PyDBFrame.trace_dispatch\u001b[0;34m()\u001b[0m\n",
      "File \u001b[0;32m_pydevd_bundle/pydevd_cython.pyx:1250\u001b[0m, in \u001b[0;36m_pydevd_bundle.pydevd_cython.PyDBFrame.trace_dispatch\u001b[0;34m()\u001b[0m\n",
      "File \u001b[0;32m_pydevd_bundle/pydevd_cython.pyx:297\u001b[0m, in \u001b[0;36m_pydevd_bundle.pydevd_cython.PyDBFrame.do_wait_suspend\u001b[0;34m()\u001b[0m\n",
      "File \u001b[0;32m~/anaconda3/lib/python3.10/site-packages/debugpy/_vendored/pydevd/pydevd.py:1976\u001b[0m, in \u001b[0;36mPyDB.do_wait_suspend\u001b[0;34m(self, thread, frame, event, arg, exception_type)\u001b[0m\n\u001b[1;32m   1973\u001b[0m             from_this_thread\u001b[38;5;241m.\u001b[39mappend(frame_custom_thread_id)\n\u001b[1;32m   1975\u001b[0m     \u001b[38;5;28;01mwith\u001b[39;00m \u001b[38;5;28mself\u001b[39m\u001b[38;5;241m.\u001b[39m_threads_suspended_single_notification\u001b[38;5;241m.\u001b[39mnotify_thread_suspended(thread_id, stop_reason):\n\u001b[0;32m-> 1976\u001b[0m         keep_suspended \u001b[38;5;241m=\u001b[39m \u001b[38;5;28;43mself\u001b[39;49m\u001b[38;5;241;43m.\u001b[39;49m\u001b[43m_do_wait_suspend\u001b[49m\u001b[43m(\u001b[49m\u001b[43mthread\u001b[49m\u001b[43m,\u001b[49m\u001b[43m \u001b[49m\u001b[43mframe\u001b[49m\u001b[43m,\u001b[49m\u001b[43m \u001b[49m\u001b[43mevent\u001b[49m\u001b[43m,\u001b[49m\u001b[43m \u001b[49m\u001b[43marg\u001b[49m\u001b[43m,\u001b[49m\u001b[43m \u001b[49m\u001b[43msuspend_type\u001b[49m\u001b[43m,\u001b[49m\u001b[43m \u001b[49m\u001b[43mfrom_this_thread\u001b[49m\u001b[43m,\u001b[49m\u001b[43m \u001b[49m\u001b[43mframes_tracker\u001b[49m\u001b[43m)\u001b[49m\n\u001b[1;32m   1978\u001b[0m frames_list \u001b[38;5;241m=\u001b[39m \u001b[38;5;28;01mNone\u001b[39;00m\n\u001b[1;32m   1980\u001b[0m \u001b[38;5;28;01mif\u001b[39;00m keep_suspended:\n\u001b[1;32m   1981\u001b[0m     \u001b[38;5;66;03m# This means that we should pause again after a set next statement.\u001b[39;00m\n",
      "File \u001b[0;32m~/anaconda3/lib/python3.10/site-packages/debugpy/_vendored/pydevd/pydevd.py:2011\u001b[0m, in \u001b[0;36mPyDB._do_wait_suspend\u001b[0;34m(self, thread, frame, event, arg, suspend_type, from_this_thread, frames_tracker)\u001b[0m\n\u001b[1;32m   2008\u001b[0m         \u001b[38;5;28mself\u001b[39m\u001b[38;5;241m.\u001b[39m_call_mpl_hook()\n\u001b[1;32m   2010\u001b[0m     \u001b[38;5;28mself\u001b[39m\u001b[38;5;241m.\u001b[39mprocess_internal_commands()\n\u001b[0;32m-> 2011\u001b[0m     \u001b[43mtime\u001b[49m\u001b[38;5;241;43m.\u001b[39;49m\u001b[43msleep\u001b[49m\u001b[43m(\u001b[49m\u001b[38;5;241;43m0.01\u001b[39;49m\u001b[43m)\u001b[49m\n\u001b[1;32m   2013\u001b[0m \u001b[38;5;28mself\u001b[39m\u001b[38;5;241m.\u001b[39mcancel_async_evaluation(get_current_thread_id(thread), \u001b[38;5;28mstr\u001b[39m(\u001b[38;5;28mid\u001b[39m(frame)))\n\u001b[1;32m   2015\u001b[0m \u001b[38;5;66;03m# process any stepping instructions\u001b[39;00m\n",
      "\u001b[0;31mKeyboardInterrupt\u001b[0m: "
     ]
    }
   ],
   "source": [
    "k=2\n",
    "\n",
    "def nextflag(flag): # flag = [0,flag]\n",
    "    n = len(flag)\n",
    "    if flag[-1] == n-2:\n",
    "        flag = -1\n",
    "        return\n",
    "    j = 1\n",
    "    for i in range(n-1, 1, -1):\n",
    "        if flag[i-1] != flag[i] - 1:\n",
    "            j = i\n",
    "            break\n",
    "    flag[j] -= 1\n",
    "    for i in range(j+1, n):\n",
    "        flag[i] = k*i - 1\n",
    "    return flag\n",
    "\n",
    "def nextdfa(last, flag):\n",
    "    j = 0\n",
    "    l = 1\n",
    "    n = len(flag)\n",
    "    if last != -1:\n",
    "        i = n - 1\n",
    "        s = last\n",
    "        for j in range(k*n-1, -1, -1):\n",
    "            if i != 0 and flag[i] == j:\n",
    "                i -= 1\n",
    "            elif last[j] < i:\n",
    "                break\n",
    "        if j == 0 and (flag[1] == 1 or last[0] == 1):\n",
    "            last = -1\n",
    "            return\n",
    "        else:\n",
    "            last[j] += 1\n",
    "            j += 1\n",
    "            l = i+1\n",
    "    else:\n",
    "        last = [0 for i in range(k*n)]\n",
    "        for i in range(len(flag)):\n",
    "            last[flag[i]] = i\n",
    "    for i in range(j,k*n):\n",
    "        if l < n and i == flag[l]:\n",
    "            l += 1\n",
    "        else:\n",
    "            last[i] = 0\n",
    "    return last\n",
    "\n",
    "def gen(n):\n",
    "    #rep = []\n",
    "    i = 0\n",
    "    flag = [0] + [i*k-1 for i in range(1,n)]\n",
    "    while flag != -1:\n",
    "        last = -1\n",
    "        nextdfa(last, flag)\n",
    "        while last != -1:\n",
    "            #rep += [last.copy()]\n",
    "            i += 1\n",
    "            nextdfa(last, flag)\n",
    "        nextflag(flag)\n",
    "    return i\n",
    "\n",
    "gen(2)"
   ]
  },
  {
   "cell_type": "code",
   "execution_count": 4,
   "id": "8c268eba-33a1-4dc5-bb42-7b8b30b75017",
   "metadata": {},
   "outputs": [
    {
     "data": {
      "text/plain": [
       "[1, 1]"
      ]
     },
     "execution_count": 4,
     "metadata": {},
     "output_type": "execute_result"
    }
   ],
   "source": [
    "def asd(a):\n",
    "    a = [0,0]\n",
    "    return a\n",
    "    \n",
    "b = [1,1]\n",
    "asd(b)\n",
    "b"
   ]
  },
  {
   "cell_type": "code",
   "execution_count": null,
   "id": "0238e17e-91e2-4f82-ad15-2eda57b5b0f3",
   "metadata": {},
   "outputs": [],
   "source": []
  }
 ],
 "metadata": {
  "kernelspec": {
   "display_name": "Python 3 (ipykernel)",
   "language": "python",
   "name": "python3"
  },
  "language_info": {
   "codemirror_mode": {
    "name": "ipython",
    "version": 3
   },
   "file_extension": ".py",
   "mimetype": "text/x-python",
   "name": "python",
   "nbconvert_exporter": "python",
   "pygments_lexer": "ipython3",
   "version": "3.10.11"
  }
 },
 "nbformat": 4,
 "nbformat_minor": 5
}
